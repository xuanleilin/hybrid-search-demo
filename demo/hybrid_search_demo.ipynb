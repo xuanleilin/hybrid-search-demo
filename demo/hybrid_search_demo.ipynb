{
 "cells": [
  {
   "cell_type": "markdown",
   "id": "9aba064b-ce44-4a55-bd44-5ca3364a079f",
   "metadata": {},
   "source": [
    "# Hybrid Search Demo\n",
    "## Create Graph Schema"
   ]
  },
  {
   "cell_type": "code",
   "execution_count": 1,
   "id": "d50318bf-37dd-432d-b566-c44add026ab0",
   "metadata": {},
   "outputs": [],
   "source": [
    "import os\n",
    "os.environ[\"TG_HOST\"] = \"http://127.0.0.1\"\n",
    "os.environ[\"TG_USERNAME\"] = \"tigergraph\"\n",
    "os.environ[\"TG_PASSWORD\"] = \"tigergraph\""
   ]
  },
  {
   "cell_type": "code",
   "execution_count": 2,
   "id": "38808548-6140-44a5-a08c-86a3816a51bd",
   "metadata": {},
   "outputs": [],
   "source": [
    "graph_schema = {\n",
    "    \"graph_name\": \"KGRec\",\n",
    "    \"nodes\": {\n",
    "        \"User\": {\n",
    "            \"primary_key\": \"id\",\n",
    "            \"attributes\": {\n",
    "                \"id\": \"INT\",\n",
    "            },\n",
    "        },\n",
    "        \"Song\": {\n",
    "            \"primary_key\": \"id\",\n",
    "            \"attributes\": {\n",
    "                \"id\": \"INT\",\n",
    "                \"description\": \"STRING\",\n",
    "            },\n",
    "            \"vector_attributes\": {\"emb_1\": 1536},\n",
    "        },\n",
    "    },\n",
    "    \"edges\": {\n",
    "        \"downloaded\": {\n",
    "            \"is_directed_edge\": False,\n",
    "            \"from_node_type\": \"User\",\n",
    "            \"to_node_type\": \"Song\",\n",
    "        },\n",
    "        \"similar_to\": {\n",
    "            \"is_directed_edge\": False,\n",
    "            \"from_node_type\": \"Song\",\n",
    "            \"to_node_type\": \"Song\",\n",
    "            \"attributes\": {\n",
    "                \"score\": \"DOUBLE\",\n",
    "            },\n",
    "        },\n",
    "    },\n",
    "}"
   ]
  },
  {
   "cell_type": "code",
   "execution_count": 3,
   "id": "f4f36935-a3db-4cd6-9633-db2122851169",
   "metadata": {},
   "outputs": [
    {
     "name": "stdout",
     "output_type": "stream",
     "text": [
      "2025-03-08 12:38:53,687 - tigergraphx.core.managers.schema_manager - INFO - Creating schema for graph: KGRec...\n",
      "2025-03-08 12:38:56,660 - tigergraphx.core.managers.schema_manager - INFO - Graph schema created successfully.\n",
      "2025-03-08 12:38:56,661 - tigergraphx.core.managers.schema_manager - INFO - Adding vector attribute(s) for graph: KGRec...\n",
      "2025-03-08 12:39:57,668 - tigergraphx.core.managers.schema_manager - INFO - Vector attribute(s) added successfully.\n"
     ]
    }
   ],
   "source": [
    "from tigergraphx import Graph\n",
    "G = Graph(graph_schema)"
   ]
  },
  {
   "cell_type": "markdown",
   "id": "becf3ea0-20b3-4e72-bf34-ccb7d0ba288e",
   "metadata": {},
   "source": [
    "## Load Data"
   ]
  },
  {
   "cell_type": "code",
   "execution_count": 4,
   "id": "51e5d71c-b656-4c22-b189-a522f0e7a97c",
   "metadata": {},
   "outputs": [],
   "source": [
    "loading_job_config = {\n",
    "    \"loading_job_name\": \"loading_job\",\n",
    "    \"files\": [\n",
    "        {\n",
    "            \"file_alias\": \"f_song\",\n",
    "            \"file_path\": \"/home/tigergraph/data/KGRec/song_embeddings.csv\",\n",
    "            \"csv_parsing_options\": {\n",
    "                \"separator\": \",\",\n",
    "                \"header\": True,\n",
    "            },\n",
    "            \"node_mappings\": [\n",
    "                {\n",
    "                    \"target_name\": \"Song\",\n",
    "                    \"attribute_column_mappings\": {\n",
    "                        \"id\": \"item_id\",\n",
    "                        \"description\": \"description\",\n",
    "                        \"emb_1\": 'SPLIT($\"embedding\", \" \")',\n",
    "                    },\n",
    "                }\n",
    "            ],\n",
    "        },\n",
    "        {\n",
    "            \"file_alias\": \"f_downloads\",\n",
    "            \"file_path\": \"/home/tigergraph/data/KGRec/implicit_lf_dataset.csv\",\n",
    "            \"csv_parsing_options\": {\n",
    "                \"separator\": \"\\t\",\n",
    "                \"header\": False,\n",
    "            },\n",
    "            \"node_mappings\": [\n",
    "                {\n",
    "                    \"target_name\": \"User\",\n",
    "                    \"attribute_column_mappings\": {\n",
    "                        \"id\": 0,\n",
    "                    },\n",
    "                },\n",
    "                {\n",
    "                    \"target_name\": \"Song\",\n",
    "                    \"attribute_column_mappings\": {\n",
    "                        \"id\": 1,\n",
    "                    },\n",
    "                }\n",
    "            ],\n",
    "            \"edge_mappings\": [\n",
    "                {\n",
    "                    \"target_name\": \"downloaded\",\n",
    "                    \"source_node_column\": 0,\n",
    "                    \"target_node_column\": 1,\n",
    "                }\n",
    "            ],\n",
    "        },\n",
    "        {\n",
    "            \"file_alias\": \"f_similar_to\",\n",
    "            \"file_path\": \"/home/tigergraph/data/KGRec/similar_songs.csv\",\n",
    "            \"csv_parsing_options\": {\n",
    "                \"separator\": \",\",\n",
    "                \"header\": True,\n",
    "            },\n",
    "            \"edge_mappings\": [\n",
    "                {\n",
    "                    \"target_name\": \"similar_to\",\n",
    "                    \"source_node_column\": \"song_id_1\",\n",
    "                    \"target_node_column\": \"song_id_2\",\n",
    "                    \"attribute_column_mappings\": {\n",
    "                        \"score\": \"similarity_score\",\n",
    "                    },\n",
    "                }\n",
    "            ],\n",
    "        },\n",
    "    ],\n",
    "}"
   ]
  },
  {
   "cell_type": "code",
   "execution_count": 5,
   "id": "d1b77573-6b59-4c3b-be0e-efac78de6c35",
   "metadata": {},
   "outputs": [
    {
     "name": "stdout",
     "output_type": "stream",
     "text": [
      "2025-03-08 12:41:02,763 - tigergraphx.core.managers.data_manager - INFO - Initiating data load for job: loading_job...\n",
      "2025-03-08 12:41:21,693 - tigergraphx.core.managers.data_manager - INFO - Data load completed successfully.\n"
     ]
    }
   ],
   "source": [
    "G.load_data(loading_job_config)"
   ]
  },
  {
   "cell_type": "markdown",
   "id": "46b20e06-d1c1-4655-944d-d26f3f102bba",
   "metadata": {},
   "source": [
    "## Install Queries in GraphStudio\n",
    "1. Open **GraphStudio**:  \n",
    "   **http://\\<YOUR_TIGERGRAPH_HOST\\>:14240/studio/#/home**\n",
    "\n",
    "3. Add and install the queries inside:\n",
    "   - `demo/gsql/queries/get_neighbors.gsql`\n",
    "   - `demo/gsql/queries/graph_based_similarity_search.gsql`\n"
   ]
  },
  {
   "cell_type": "markdown",
   "id": "c0e94e90-2493-44f3-a08e-54a67d28e232",
   "metadata": {},
   "source": [
    "## Graph-based Similarity Search"
   ]
  },
  {
   "cell_type": "code",
   "execution_count": 6,
   "id": "24e278ff-d310-4fd2-a6a2-4c84c200366e",
   "metadata": {},
   "outputs": [
    {
     "name": "stdout",
     "output_type": "stream",
     "text": [
      "{'v_id': '4425', 'v_type': 'Song', 'attributes': {'id': 4425, 'description': \"Thousand Foot Krutch vocalist Trevor McNevan -LRB- from NewReleaseTuesday -RRB- : `` This is another firecracker , more of an adrenaline rock song .\\\\nI could n't help but picture NASCAR drivers flying by on the track to this .\\\\nI love big , anthemic songs that are calls to action - so this one is case and point . ''\", '@sum_score': 4.889628140900233, '@visited': False}}\n",
      "{'v_id': '5148', 'v_type': 'Song', 'attributes': {'id': 5148, 'description': \"TFK frontman/songwriter Trevor McNevan had the idea for this song for some time .\\\\nHe told NewReleaseTuesday : `` Although it 's in the same vein as some of our other high-octane songs , like ` Fire It Up , ' it 's quite different .\\\\nI wanted it to have that U2 Vertigo type vibe ; that big stadium energy with single notes on the main guitar riff , instead of chords . ''\\\\nThis was a challenge for McNevan to sing as its one of the highest songs vocally he 's written to date .\\\\nHe told NewReleaseTuesday : `` With every record , you try to push yourself .\\\\nWhen your writing it 's no big deal , but when you get tracking , you realize , ` wow , I 'm gon na really have to step into this ! '\\\\nAnd this was the first song written for the new album that had actual rhyming in it .\\\\nI grew up on old school hip hop and have always been into rhyming .\\\\nThat 's where I came from , and I think it has given me a lot of unique advantages as a vocalist and as a writer .\\\\nIt also has its setbacks .\\\\nYou have to remember that not everybody is listening for a clever or witty lyric or vocal pattern , and it can easily throw them off or sometimes just go right over their heads .\\\\nI hate predictable rhymes .\\\\nThis song is like an explosive ; it builds and then explodes , comes right back down , builds , and then explodes again .\\\\nMusical pyro !!! I wanted the listener to feel the energy , and feel the emotion behind it .\\\\nIt 's a call to action . ''\", '@sum_score': 4.863204235677239, '@visited': False}}\n",
      "{'v_id': '3782', 'v_type': 'Song', 'attributes': {'id': 3782, 'description': \"Thousand Foot Krutch vocalist Trevor McNevan told NewReleaseTuesday he is utilizing the slang version of `` wicked '' in this song rather than its original malevolent meaning .\\\\nHe explained : `` I know what you 're thinking ... the word ` Wicked ' can be associated with a million negative things , but for me , as a Canadian , it has always been a word associated with something great - no different than the word ` awesome ' or ` going to the fence , ' ` giving it all you got ' so to speak . ''\\\\nLyrically this song is about the tendency for some Christians to be `` too nice '' and get treated like doormats .\\\\nMcNevan told NewReleaseTuesday : `` I was inspired to write this based on the saying , ` Do n't mistake kindness for weakness . '\\\\nI heard that once , and it 's always resonated with me .\\\\nI think as Christians , we can tend to be too nice , and let people walk all over us .\\\\nThis is n't a song promoting violence or anything of that nature , it 's more of a statement , saying , ` my faith 's my life , but that does n't mean you can walk all over me . ' ''\", '@sum_score': 4.765656926227133, '@visited': False}}\n",
      "{'v_id': '4512', 'v_type': 'Song', 'attributes': {'id': 4512, 'description': \"Guitarist Anthony Armstrong explained the song to AntiMusic : `` It 's about leaving the past behind us .\\\\nFinally we see that we can close the door on our skeletons and make preparations for a future that is bound to hold new and exciting opportunities in every fascist of our lives .\\\\nWe will no longer hold back the life that we have denied ourselves and see that the best is yet to come . ''\", '@sum_score': 4.560871247880392, '@visited': False}}\n"
     ]
    }
   ],
   "source": [
    "graph_search_results = G.run_query(\"graph_based_similarity_search\", params={\"input\": 17418216, \"k\": 4})\n",
    "for result in graph_search_results:\n",
    "    for key, songs in result.items():\n",
    "        for song in songs:\n",
    "            print(song)"
   ]
  },
  {
   "cell_type": "markdown",
   "id": "4e614896-cd2b-4c8c-9162-302652556a79",
   "metadata": {},
   "source": [
    "## Vector-based Similarity Search"
   ]
  },
  {
   "cell_type": "code",
   "execution_count": 7,
   "id": "ab135661-e576-41c7-b7bc-e1e37f1721ad",
   "metadata": {},
   "outputs": [],
   "source": [
    "import numpy as np\n",
    "df = G.get_neighbors(start_nodes=17418216, start_node_type=\"User\", edge_types=\"downloaded\")\n",
    "song_ids = set(df['id'])\n",
    "songs = G.fetch_nodes(song_ids, vector_attribute_name=\"emb_1\", node_type=\"Song\")"
   ]
  },
  {
   "cell_type": "code",
   "execution_count": 8,
   "id": "5357e183-9972-46b4-a560-7cd5172c21a3",
   "metadata": {},
   "outputs": [
    {
     "name": "stdout",
     "output_type": "stream",
     "text": [
      "(59, 1536)\n",
      "(1536,)\n"
     ]
    }
   ],
   "source": [
    "embeddings = np.array(list(songs.values()))\n",
    "user_embedding = np.mean(embeddings, axis=0)\n",
    "print(embeddings.shape)\n",
    "print(user_embedding.shape)"
   ]
  },
  {
   "cell_type": "code",
   "execution_count": 9,
   "id": "5b6b5dc1-4441-46dd-9290-6f857ee39c68",
   "metadata": {},
   "outputs": [
    {
     "name": "stdout",
     "output_type": "stream",
     "text": [
      "{'id': 2424, 'distance': 0.08361697, 'description': \"Lead singer Christian Lindskog : `` This was a possible title for the record for me .\\\\nIt was one of the first things I wrote and was very much tied to the intro piece .\\\\nDuring my time in Africa I dealt with a lot of conflict about my feelings towards what I was seeing .\\\\nThere is so much devastation it is hard not to become numb to it and just shut down .\\\\nWhen I came home I found the same thing was really true for everything we have to deal with from our TV sets .\\\\nI had n't seen any TV for 6 weeks and when I turned it back on I was so shocked by what I was seeing and I realized we become numb to the things that come out of our TV everyday .\\\\nThe lyric was actually pretty much improvised in the studio .\\\\nIt was one of the first vocals I did .\\\\nWith every record we make it seems like I never have the lyrics ready until the last minute , and sometime not even then !\\\\nSo I ended up working on things at the mic .\\\\nThis was definitely one of those .\\\\nThe idea of the frost in the grass is one I really love .\\\\nIt always looks so beautiful when you see a field covered in frost .\\\\nI want to take my shoes off and run in it , but the reality is , ITS COLD .\\\\nAnd eventually its not just your feet that are cold , but your whole body .\\\\nPeople 's hearts are slowly becoming colder , emotions are being replaced , we want to escape from ourselves .\\\\nWe are on a treadmill of performance but performance without purpose .\\\\nYou can blame society but we are society .\\\\nEventually what is in your heart makes you take a stand .\\\\nDrummer Marcus Dahlstrom : `` I have kind of a thing on the side writing electronic music .\\\\nI love it .\\\\nI have a lot of music like this and Simon heard this one track I was working on and thought we should turn it into a Blindside song .\\\\nI was a little unsure about how we would make it work but he found a way to translate the riff to the guitar .\\\\nSo I started to play what I had programmed and we ended up with the basic structure of the song .\\\\nWe experimented with this track a lot .\\\\nFrom this original idea to convert an electronic track to something more organic .\\\\nOne night Lasse and I were in the studio fooling around with some delays to spice the song up a bit and we ended up with a very strange layering of delays .\\\\nWe played around with some EQ and ended up with a very atmospheric piece that sounded nothing like the original song .\\\\nThat actually turned into the basis for music beneath the intro .\\\\nThen Simon and Christian did there thing and then we had the intro !\\\\nI also played a second drum part at half speed on the end of this song and then we doubled it to bring it up to tempo .\\\\nIt is the high sound you hear on the final chorus .\\\\nA lot of people think it is programming , but it is all live drums . ''\\\\n-LRB- thanks , Tim - PGH , PA , for above 2 -RRB-\"}\n",
      "{'id': 7103, 'distance': 0.08542156, 'description': \"Frontman and songwriter Conor O'Brien told The Daily Telegraph that this atheist anthem started out `` pretty mental , drum and bass electronica , lyrics about cities crumbling and people dying , sounds of fire and apocalyptic thing .\\\\n`` After rehearsing the song with his band , it gradually transformed into `` a pretty straightforward folk rock song about smiling into the void . ''\\\\nRegarding the song 's meaning , O'Brien told The Sun it , `` is a sort of ode to meaninglessness , that absolute void that we all feel at some stage in our lives , if not every single day .\\\\nIt sort of proposes that this void is the very thing that binds us all together as human beings on this planet . ''\\\\nO'Brien described this song to The Sun , as a `` tragi-comedy . ''\\\\nadding that he `` was very much influenced by Slaughterhouse-Five by Kurt Vonnegut - that feeling of deep , dark moments being placed alongside compulsive hilarity .\\\\n`` American writer Kurt Vonnegut -LRB- 1922 - 2007 -RRB- was a 20th-century American writer , who was known for his humanist beliefs and satirical novels .\\\\nSlaughterhouse-Five -LRB- 1969 -RRB- , which is generally recognized as Vonnegut 's most influential and popular work , drew on his experience as a World War II prisoner of war in Germany when he witnessed the destructive bombing of Dresden .\\\\nVonnegut was one of a group to survive the attack in an underground slaughterhouse meat locker used by the Germans as an ad hoc detention facility .\\\\nHis satirical novel has inspired a number of other songs .\\\\nThey include : `` Everything Is Automatic '' by Matthew Good -LRB- The lyric `` Those birds are singing '' was taken from a line in the book -RRB- .\\\\n`` And So It Goes '' by Billy Joel and `` So It Goes . ''\\\\n-LRB- Both song titles taken from a recurring line in the book used every time a death occurs -RRB- Also English alternative rock band Billy Pilgrim took their name from the novel 's soldier protagonist .\\\\nThis was the only song on -LRB- Awayland -RRB- that was written by O'Brien in one session .\\\\nHe explained to WhiteTapes : `` I literally woke up and it was in my head .\\\\nLike a Paul McCartney moment .\\\\nThis never happened to me before or after .\\\\nI just sang it to my computer and recorded so that was a quick song .\\\\nThe others were very long and slow and just , really teasing . ''\"}\n",
      "{'id': 5996, 'distance': 0.08263087, 'description': \"Frontman Justin Pierre told Alternative Press that the genesis of this song harks back to 2007 : `` The original idea for this song came while we were recording Even If It Kills Me .\\\\nI had a few lines for verses and part of the chorus , but I was n't sure where it was going .\\\\nThere was n't enough time to explore it back then , so we saved it for this record .\\\\nI had this strange image in my head of two people sitting on the roof of a house at night in the fall , shivering slightly and silently together ; their only comfort each other .\\\\nI see this song as a melancholy anthem for those of us who really wish we were more than just a science experiment , but fear that that 's probably not the case . ''\"}\n",
      "{'id': 5274, 'distance': 0.08488798, 'description': \"This track not only musically slows down the pulse , but it also seems to wrap up the album in a sentimental , philosophical way .\\\\nWhen we spoke with lead singer Chris Henderson , he explained : `` The concept of this tune is simple in theory , yet many people -LRB- myself included -RRB- seem to have a hard time executing : If you are unhappy or unsatisfied , do something to change it .\\\\nDo n't stick around here to feed the mouth that bites you .\\\\nI was hoping the lyrics could apply to anyone who recognizes that they could have something better and that the only way to do it was make the change happen for yourself . ''\\\\nHenderson has spoken before about his pre-music gigs , and one ca n't help but wonder if , at some point along that path , he was driven to take his own advice after the droning 9-5 world .\\\\n`` I was more or less a butler/personal assistant to a lawyer in Hartford .\\\\nWe do n't have enough time in the day to talk about that job -- it was interesting working with a very quirky gentleman . ''\"}\n"
     ]
    }
   ],
   "source": [
    "vector_search_results = G.search(\n",
    "    data=user_embedding.tolist(),\n",
    "    vector_attribute_name=\"emb_1\",\n",
    "    node_type=\"Song\",\n",
    "    limit=4,\n",
    "    return_attributes=[\"id\", \"description\"]\n",
    ")\n",
    "for node in vector_search_results:\n",
    "    print(node)"
   ]
  },
  {
   "cell_type": "markdown",
   "id": "826be2ae-2374-4486-83b8-e373eb7c9ba3",
   "metadata": {},
   "source": [
    "## Hybrid Search"
   ]
  },
  {
   "cell_type": "code",
   "execution_count": 10,
   "id": "effc1203-cc9f-4789-91dd-32fbe95b43d4",
   "metadata": {},
   "outputs": [
    {
     "name": "stdout",
     "output_type": "stream",
     "text": [
      "ID: 4425\n",
      "Hybrid Score: 0.5000\n",
      "Description: Thousand Foot Krutch vocalist Trevor McNevan -LRB- from NewReleaseTuesday -RRB- : `` This is another firecracker , more of an adrenaline rock song .\\nI could n't help but picture NASCAR drivers flying by on the track to this .\\nI love big , anthemic songs that are calls to action - so this one is case and point . ''\n",
      "--------------------------------------------------------------------------------\n",
      "ID: 5996\n",
      "Hybrid Score: 0.5000\n",
      "Description: Frontman Justin Pierre told Alternative Press that the genesis of this song harks back to 2007 : `` The original idea for this song came while we were recording Even If It Kills Me .\\nI had a few lines for verses and part of the chorus , but I was n't sure where it was going .\\nThere was n't enough time to explore it back then , so we saved it for this record .\\nI had this strange image in my head of two people sitting on the roof of a house at night in the fall , shivering slightly and silently together ; their only comfort each other .\\nI see this song as a melancholy anthem for those of us who really wish we were more than just a science experiment , but fear that that 's probably not the case . ''\n",
      "--------------------------------------------------------------------------------\n",
      "ID: 5148\n",
      "Hybrid Score: 0.4598\n",
      "Description: TFK frontman/songwriter Trevor McNevan had the idea for this song for some time .\\nHe told NewReleaseTuesday : `` Although it 's in the same vein as some of our other high-octane songs , like ` Fire It Up , ' it 's quite different .\\nI wanted it to have that U2 Vertigo type vibe ; that big stadium energy with single notes on the main guitar riff , instead of chords . ''\\nThis was a challenge for McNevan to sing as its one of the highest songs vocally he 's written to date .\\nHe told NewReleaseTuesday : `` With every record , you try to push yourself .\\nWhen your writing it 's no big deal , but when you get tracking , you realize , ` wow , I 'm gon na really have to step into this ! '\\nAnd this was the first song written for the new album that had actual rhyming in it .\\nI grew up on old school hip hop and have always been into rhyming .\\nThat 's where I came from , and I think it has given me a lot of unique advantages as a vocalist and as a writer .\\nIt also has its setbacks .\\nYou have to remember that not everybody is listening for a clever or witty lyric or vocal pattern , and it can easily throw them off or sometimes just go right over their heads .\\nI hate predictable rhymes .\\nThis song is like an explosive ; it builds and then explodes , comes right back down , builds , and then explodes again .\\nMusical pyro !!! I wanted the listener to feel the energy , and feel the emotion behind it .\\nIt 's a call to action . ''\n",
      "--------------------------------------------------------------------------------\n",
      "ID: 2424\n",
      "Hybrid Score: 0.3233\n",
      "Description: Lead singer Christian Lindskog : `` This was a possible title for the record for me .\\nIt was one of the first things I wrote and was very much tied to the intro piece .\\nDuring my time in Africa I dealt with a lot of conflict about my feelings towards what I was seeing .\\nThere is so much devastation it is hard not to become numb to it and just shut down .\\nWhen I came home I found the same thing was really true for everything we have to deal with from our TV sets .\\nI had n't seen any TV for 6 weeks and when I turned it back on I was so shocked by what I was seeing and I realized we become numb to the things that come out of our TV everyday .\\nThe lyric was actually pretty much improvised in the studio .\\nIt was one of the first vocals I did .\\nWith every record we make it seems like I never have the lyrics ready until the last minute , and sometime not even then !\\nSo I ended up working on things at the mic .\\nThis was definitely one of those .\\nThe idea of the frost in the grass is one I really love .\\nIt always looks so beautiful when you see a field covered in frost .\\nI want to take my shoes off and run in it , but the reality is , ITS COLD .\\nAnd eventually its not just your feet that are cold , but your whole body .\\nPeople 's hearts are slowly becoming colder , emotions are being replaced , we want to escape from ourselves .\\nWe are on a treadmill of performance but performance without purpose .\\nYou can blame society but we are society .\\nEventually what is in your heart makes you take a stand .\\nDrummer Marcus Dahlstrom : `` I have kind of a thing on the side writing electronic music .\\nI love it .\\nI have a lot of music like this and Simon heard this one track I was working on and thought we should turn it into a Blindside song .\\nI was a little unsure about how we would make it work but he found a way to translate the riff to the guitar .\\nSo I started to play what I had programmed and we ended up with the basic structure of the song .\\nWe experimented with this track a lot .\\nFrom this original idea to convert an electronic track to something more organic .\\nOne night Lasse and I were in the studio fooling around with some delays to spice the song up a bit and we ended up with a very strange layering of delays .\\nWe played around with some EQ and ended up with a very atmospheric piece that sounded nothing like the original song .\\nThat actually turned into the basis for music beneath the intro .\\nThen Simon and Christian did there thing and then we had the intro !\\nI also played a second drum part at half speed on the end of this song and then we doubled it to bring it up to tempo .\\nIt is the high sound you hear on the final chorus .\\nA lot of people think it is programming , but it is all live drums . ''\\n-LRB- thanks , Tim - PGH , PA , for above 2 -RRB-\n",
      "--------------------------------------------------------------------------------\n"
     ]
    }
   ],
   "source": [
    "import pandas as pd\n",
    "\n",
    "# Extract graph-based recommendations\n",
    "graph_recs = []\n",
    "for result in graph_search_results:\n",
    "    if isinstance(result, dict):  # Ensure result is a dictionary\n",
    "        for key, songs in result.items():\n",
    "            if isinstance(songs, list):  # Ensure songs is a list\n",
    "                for song in songs:\n",
    "                    if isinstance(song, dict) and 'attributes' in song:\n",
    "                        graph_recs.append({\n",
    "                            \"id\": int(song.get('v_id', 0)),  # Default ID to 0 if missing\n",
    "                            \"graph_score\": song['attributes'].get('@sum_score', 0),  # Default to 0 if missing\n",
    "                            \"description\": song['attributes'].get('description', 'No description available')  # Default description\n",
    "                        })\n",
    "\n",
    "# Extract vector-based recommendations\n",
    "vector_recs = [\n",
    "    {\n",
    "        \"id\": int(node.get(\"id\", 0)),  # Default ID to 0 if missing\n",
    "        \"vector_distance\": node.get(\"distance\", 1.0),  # Default max distance to 1.0\n",
    "        \"description\": node.get(\"description\", \"No description available\")  # Default description\n",
    "    }\n",
    "    for node in vector_search_results\n",
    "]\n",
    "\n",
    "# Convert to DataFrame\n",
    "df_graph = pd.DataFrame(graph_recs)\n",
    "df_vector = pd.DataFrame(vector_recs)\n",
    "\n",
    "# Convert `id` column to int before merging\n",
    "df_graph['id'] = df_graph['id'].astype(int)\n",
    "df_vector['id'] = df_vector['id'].astype(int)\n",
    "\n",
    "# Normalize Graph Scores\n",
    "if not df_graph.empty and 'graph_score' in df_graph:\n",
    "    df_graph['graph_score_norm'] = (df_graph['graph_score'] - df_graph['graph_score'].min()) / \\\n",
    "                                   (df_graph['graph_score'].max() - df_graph['graph_score'].min())\n",
    "else:\n",
    "    df_graph['graph_score_norm'] = 0  # Default normalization if empty\n",
    "\n",
    "# Normalize Vector Scores (inverse because lower is better)\n",
    "if not df_vector.empty and 'vector_distance' in df_vector:\n",
    "    df_vector['vector_score_norm'] = (df_vector['vector_distance'].max() - df_vector['vector_distance']) / \\\n",
    "                                     (df_vector['vector_distance'].max() - df_vector['vector_distance'].min())\n",
    "else:\n",
    "    df_vector['vector_score_norm'] = 0  # Default normalization if empty\n",
    "\n",
    "# Merge both DataFrames\n",
    "df_merged = pd.merge(df_graph, df_vector, on='id', how='outer')\n",
    "\n",
    "# Fill missing scores and descriptions\n",
    "df_merged['graph_score_norm'] = df_merged['graph_score_norm'].fillna(0)\n",
    "df_merged['vector_score_norm'] = df_merged['vector_score_norm'].fillna(0)\n",
    "df_merged['description_x'] = df_merged['description_x'].fillna(df_merged['description_y'])\n",
    "df_merged = df_merged.rename(columns={\"description_x\": \"description\"}).drop(columns=[\"description_y\"])\n",
    "\n",
    "# Compute Hybrid Score with weight α = 0.5\n",
    "alpha = 0.5\n",
    "df_merged['hybrid_score'] = alpha * df_merged['graph_score_norm'] + (1 - alpha) * df_merged['vector_score_norm']\n",
    "\n",
    "# Sort by Hybrid Score and select top 4\n",
    "df_sorted = df_merged.sort_values(by='hybrid_score', ascending=False).head(4)\n",
    "\n",
    "# Print results one by one\n",
    "for _, row in df_sorted.iterrows():\n",
    "    print(f\"ID: {row['id']}\")\n",
    "    print(f\"Hybrid Score: {row['hybrid_score']:.4f}\")\n",
    "    print(f\"Description: {row['description']}\\n\" + \"-\" * 80)"
   ]
  },
  {
   "cell_type": "markdown",
   "id": "83881699-5b96-4749-868f-49bbd94e702d",
   "metadata": {},
   "source": [
    "## Vector Search for QA System"
   ]
  },
  {
   "cell_type": "code",
   "execution_count": 11,
   "id": "12bffeb3-f039-431f-9d57-774114cac70b",
   "metadata": {},
   "outputs": [
    {
     "name": "stdout",
     "output_type": "stream",
     "text": [
      "2025-03-08 12:43:26,420 - httpx - INFO - HTTP Request: POST https://api.openai.com/v1/embeddings \"HTTP/1.1 200 OK\"\n"
     ]
    }
   ],
   "source": [
    "import openai\n",
    "\n",
    "def get_question_embedding(question, model=\"text-embedding-ada-002\"):\n",
    "    \"\"\"Convert a question into an embedding (List[float]) using OpenAI API.\"\"\"\n",
    "    try:\n",
    "        response = openai.embeddings.create(input=[question], model=model)\n",
    "        return response.data[0].embedding  # Returns the embedding as List[float]\n",
    "    except Exception as e:\n",
    "        print(f\"Error generating embedding: {e}\")\n",
    "        return None  # Return None if there is an error\n",
    "\n",
    "question = 'Are there any songs in the dataset that mention a specific genre (e.g., \"rock,\" \"jazz,\" \"pop\") in their descriptions?'\n",
    "embedding = get_question_embedding(question)"
   ]
  },
  {
   "cell_type": "code",
   "execution_count": 12,
   "id": "0ee4a8ac-8ee9-4e47-b813-bbf251a8a137",
   "metadata": {},
   "outputs": [
    {
     "name": "stdout",
     "output_type": "stream",
     "text": [
      "[{'id': 366, 'distance': 0.2340479, 'description': \"This song samples Jazz saxophonist Bill Evans ' track `` What Is There to Say . ''\\\\nKrule explained to MTV News how when he was a child he used to listen to jazz melodies on repeat .\\\\n`` Improvisation is beautiful because it 's only there in that moment , '' he said , `` and I can take that moment and prolong it as much as possible with my song . ''\"}, {'id': 3095, 'distance': 0.222947, 'description': \"This song draws on reggae-inspired genres like dancehall and dub to illustrate an eccentric young woman .\\\\n`` I love the picture of what this girl is like because I do believe , much like the narrator believes , that there is a person for every person , '' Kirsten Bush told CMT News .\\\\n`` There might even be more than one , but I do believe in it .\\\\nI 'm a hopeless and helpless romantic .\\\\nWhen that song started to unfold , we got to the bridge of it , and I was referencing dancehall , like hyip-dibi-dibi-dibi , hyip-dibi-dibi-dibi . ''\\\\nJennifer Nettles told CMT News that she embraced the chance to write lyrics based on the dub rhythm of the actual words .\\\\n`` The lyrics themselves can just be fun words that sound really ` riki-tiki ' to say , '' she noted .\\\\n`` It does n't have to always have to make narrative sense but just have fun with having fun words .\\\\nIf you remember the Sugar Hill Gang -LSB- a pioneering hip hop group in the '70s check out Rapper 's Delight -RSB- , when everybody wanted to learn ` hip-hop-hippa-to-the-hippity-hip-hop . '\\\\nEverybody wants to learn that .\\\\nIt 's fun to say . ''\"}, {'id': 63, 'distance': 0.2309018, 'description': \"Brooklyn quintet Friends may be a Pop band , but their lyrical content is more thoughtful than many others in their genre .\\\\n`` One thing that I think is really cool is to create a sense of joy and empowerment , '' said Samantha Urbani to The Independent .\\\\n`` But not just with a message of jubilant positivity - we have a song about death and anticipating it called ` Ideas on Ghosts , ' but it 's a dance song so you reach this level of cathartic movement and energised dancing , but with a sense of awareness of all the negativity and all of the sadness and all of the spectrum of human feelings .\\\\nI think it 's really cool because a lot of dance songs are just sexy come-ons .\\\\nThis is thinking persons ' pop music , I hope . ''\"}, {'id': 5982, 'distance': 0.2316078, 'description': \"Jewel described this on her website , as `` a pop leaning toe-tapper that has a great story lyric about being close to those we love , even when away . ''\"}, {'id': 458, 'distance': 0.2323258, 'description': \"Several critics have commented that this song sounds like something written by Burt Bacharach .\\\\nHowever , Legend told Performing Songwriting magazine that any similarities were accidental .\\\\n`` I 'm not really a student of his work , '' he said .\\\\n`` He was a prolific songwriter , and there are songs of his that I did n't even know I knew , like songs sung by Luther Vandross and Aretha Franklin .\\\\nBut I do n't own any of his albums .\\\\nIt just so happened that I end up sounding like him . ''\\\\n`` You listen to music and use it to try to create something new , and who knows what 's going to come into your head , '' Legend continued .\\\\n`` A song is a song .\\\\nYou produce a song , and at that moment when you produce it , that 's when you take it into a genre .\\\\nBefore you produce it , it 's just a song , and it could be any style depending on how you decide to mix it and arrange it .\\\\nTo me , when you evaluate songwriting , you do n't do it on a genre basis .\\\\nYou ask , ` Is this a good song ? ' ''\"}, {'id': 525, 'distance': 0.2299192, 'description': \"The Court Yard Hounds album spans sounds of folk , country , rock and Americana , and on this song about an angry , disapproving father , the sisters rock out .\\\\nThe Boot asked Martie Maguire if was there any concern about the genre that the music would fit into .\\\\nShe replied : `` Not really , because Emily was doing her own demos and she would give the songs to me and they were basically complete .\\\\nSome of them were guitar-vocal , but some of them had a Dobro part or had a garage-band drum loop , just to kind of get her idea across .\\\\nSo it was all in her head , and when I got them it was actually hard to add a full band to them because I was so married to the demos .\\\\nEmily does n't really write with a genre in mind , she writes with an idea or a melody , and that drives it .\\\\nI 'm the same kind of songwriter .\\\\n-LSB- I do n't say -RSB- ` I 'm gon na sit down and write a rock song ' or ` I 'm gon na sit down a write a country song . '\\\\nWe have a bluegrass background and that tends to seep into things , the kind of acoustic nature of things -LSB- on songs like -RSB- ` Ai n't No Son ' and ` The Coast , ' the very dry acoustic sound comes from our love of liking the natural sound of instruments .\\\\nIt 's not a very affected sound .\\\\nThat sometimes can lean more country or more acoustic , but ... when we put an electric guitar in there , that would take it in a rock direction .\\\\nI think Rolling Stone called it ` folk-rock , ' which I thought was an interesting categorization . ''\\\\nLyrically the song is an angry argument between a father and a son who 's revealed he is gay .\\\\nRobison was originally inspired to write the song after watching a documentary on children coming out.Maguire told the Australian newspaper Star Observer : `` We wrote it after Emily had watched a documentary about families who throw their young boys out of the house when they find out they 're gay .\\\\nShe was really disturbed by that mentality .\\\\nShe does n't like having to sing it from the father 's perspective , because she really has to become that person when she 's singing it . ''\"}, {'id': 1728, 'distance': 0.2234166, 'description': \"According to vocalist/guitarist James Petralli , White Denim 's songs are the musical manifestations of abstract paintings or philosophical tracts .\\\\nHe explained to UK music magazine the NME : `` The things that I like to read are generally abstract .\\\\nI like patterns , I like reading poetry and avant-garde prose and I 'm more interested in musical patterns in literature than I am in long-form narratives .\\\\nI look at paintings and try to visualise an object or image , then assimilate how that makes me feel into a series of phrases and try to make it musical . ''\\\\nPetralli told the NME the song is about , `` creating work and weighing its importance . ''\\\\nThis meditative hoedown is loosely based on some excerpts from The Blue and Brown Books by Austrian philosopher Ludwig Wittgenstein .\\\\nPetralli told the NME : `` The lyric-writing process is like an excavation , I 'm trying to pull words and melodies out of what 's already there . ''\\\\nPetralli 's father is former Major League Baseball catcher Geno Petralli , whose career spanned 12 years , from 1982 to 1993 .\"}, {'id': 504, 'distance': 0.2286872, 'description': \"Justin Timberlake ends his The 20/20 Experience album on an ambient note .\\\\nHe explained in an interview with MySpace that such songs as this tune and `` Strawberry Bubblegum '' were his attempts to put his own spin on Radiohead 's electronic rock .\\\\n`` I want people to close their eyes and listen to this album , '' he said .\\\\n`` I really do think my effort with the last album was to make people dance , and I think with this album , I wrote a lot of songs that make me want to sing ... and dance . ''\"}, {'id': 8418, 'distance': 0.230859, 'description': \"According to Cave , the songs on Push The Sky were composed from `` Googling curiosities -LSB- and -RSB- being entranced by exotic Wikipedia entries , '' with a focus on `` how on the internet profoundly significant events , momentary fads and mystically-tinged absurdities sit side-by-side . ''\\\\nThese digital fixations are prominent on this track , which finds Cave crooning , `` Wikipedia is heaven .\\\\nWhen you do n't want to remember anymore . ''\"}, {'id': 92, 'distance': 0.2320787, 'description': \"The song 's lyric is sampled from `` Style Of The Streets , '' a 1984 hip-hop single by Mancunian rap group Broken Glass -LRB- whose members included future Black Grape member Kermit -RRB- .\\\\nIn the song , the rappers are dreaming of a time when they will be touring round the world , making lots of money and singing songs about girls .\\\\nThe song also samples D-Train 's `` You 're The One For Me . ''\"}]\n"
     ]
    }
   ],
   "source": [
    "retrieved_songs = G.search(\n",
    "    data=embedding,\n",
    "    vector_attribute_name=\"emb_1\",\n",
    "    node_type=\"Song\",\n",
    "    limit=10,\n",
    ")\n",
    "print(retrieved_songs)"
   ]
  },
  {
   "cell_type": "code",
   "execution_count": 13,
   "id": "ce645f13-74b8-4ae6-b72e-c4960c42d116",
   "metadata": {},
   "outputs": [
    {
     "name": "stdout",
     "output_type": "stream",
     "text": [
      "You are an expert in analyzing song descriptions and answering user queries based on provided song data.\n",
      "\n",
      "### Task:\n",
      "Answer the following question based on the retrieved song descriptions. Use the given information to generate a relevant, concise, and insightful response.\n",
      "\n",
      "### Question:\n",
      "Are there any songs in the dataset that mention a specific genre (e.g., \"rock,\" \"jazz,\" \"pop\") in their descriptions?\n",
      "\n",
      "### Retrieved Songs:\n",
      "- id: 366\n",
      " Description: This song samples Jazz saxophonist Bill Evans ' track `` What Is There to Say . ''\\nKrule explained to MTV News how when he was a child he used to listen to jazz melodies on repeat .\\n`` Improvisation is beautiful because it 's only there in that moment , '' he said , `` and I can take that moment and prolong it as much as possible with my song . ''\n",
      "- id: 3095\n",
      " Description: This song draws on reggae-inspired genres like dancehall and dub to illustrate an eccentric young woman .\\n`` I love the picture of what this girl is like because I do believe , much like the narrator believes , that there is a person for every person , '' Kirsten Bush told CMT News .\\n`` There might even be more than one , but I do believe in it .\\nI 'm a hopeless and helpless romantic .\\nWhen that song started to unfold , we got to the bridge of it , and I was referencing dancehall , like hyip-dibi-dibi-dibi , hyip-dibi-dibi-dibi . ''\\nJennifer Nettles told CMT News that she embraced the chance to write lyrics based on the dub rhythm of the actual words .\\n`` The lyrics themselves can just be fun words that sound really ` riki-tiki ' to say , '' she noted .\\n`` It does n't have to always have to make narrative sense but just have fun with having fun words .\\nIf you remember the Sugar Hill Gang -LSB- a pioneering hip hop group in the '70s check out Rapper 's Delight -RSB- , when everybody wanted to learn ` hip-hop-hippa-to-the-hippity-hip-hop . '\\nEverybody wants to learn that .\\nIt 's fun to say . ''\n",
      "- id: 63\n",
      " Description: Brooklyn quintet Friends may be a Pop band , but their lyrical content is more thoughtful than many others in their genre .\\n`` One thing that I think is really cool is to create a sense of joy and empowerment , '' said Samantha Urbani to The Independent .\\n`` But not just with a message of jubilant positivity - we have a song about death and anticipating it called ` Ideas on Ghosts , ' but it 's a dance song so you reach this level of cathartic movement and energised dancing , but with a sense of awareness of all the negativity and all of the sadness and all of the spectrum of human feelings .\\nI think it 's really cool because a lot of dance songs are just sexy come-ons .\\nThis is thinking persons ' pop music , I hope . ''\n",
      "- id: 5982\n",
      " Description: Jewel described this on her website , as `` a pop leaning toe-tapper that has a great story lyric about being close to those we love , even when away . ''\n",
      "- id: 458\n",
      " Description: Several critics have commented that this song sounds like something written by Burt Bacharach .\\nHowever , Legend told Performing Songwriting magazine that any similarities were accidental .\\n`` I 'm not really a student of his work , '' he said .\\n`` He was a prolific songwriter , and there are songs of his that I did n't even know I knew , like songs sung by Luther Vandross and Aretha Franklin .\\nBut I do n't own any of his albums .\\nIt just so happened that I end up sounding like him . ''\\n`` You listen to music and use it to try to create something new , and who knows what 's going to come into your head , '' Legend continued .\\n`` A song is a song .\\nYou produce a song , and at that moment when you produce it , that 's when you take it into a genre .\\nBefore you produce it , it 's just a song , and it could be any style depending on how you decide to mix it and arrange it .\\nTo me , when you evaluate songwriting , you do n't do it on a genre basis .\\nYou ask , ` Is this a good song ? ' ''\n",
      "- id: 525\n",
      " Description: The Court Yard Hounds album spans sounds of folk , country , rock and Americana , and on this song about an angry , disapproving father , the sisters rock out .\\nThe Boot asked Martie Maguire if was there any concern about the genre that the music would fit into .\\nShe replied : `` Not really , because Emily was doing her own demos and she would give the songs to me and they were basically complete .\\nSome of them were guitar-vocal , but some of them had a Dobro part or had a garage-band drum loop , just to kind of get her idea across .\\nSo it was all in her head , and when I got them it was actually hard to add a full band to them because I was so married to the demos .\\nEmily does n't really write with a genre in mind , she writes with an idea or a melody , and that drives it .\\nI 'm the same kind of songwriter .\\n-LSB- I do n't say -RSB- ` I 'm gon na sit down and write a rock song ' or ` I 'm gon na sit down a write a country song . '\\nWe have a bluegrass background and that tends to seep into things , the kind of acoustic nature of things -LSB- on songs like -RSB- ` Ai n't No Son ' and ` The Coast , ' the very dry acoustic sound comes from our love of liking the natural sound of instruments .\\nIt 's not a very affected sound .\\nThat sometimes can lean more country or more acoustic , but ... when we put an electric guitar in there , that would take it in a rock direction .\\nI think Rolling Stone called it ` folk-rock , ' which I thought was an interesting categorization . ''\\nLyrically the song is an angry argument between a father and a son who 's revealed he is gay .\\nRobison was originally inspired to write the song after watching a documentary on children coming out.Maguire told the Australian newspaper Star Observer : `` We wrote it after Emily had watched a documentary about families who throw their young boys out of the house when they find out they 're gay .\\nShe was really disturbed by that mentality .\\nShe does n't like having to sing it from the father 's perspective , because she really has to become that person when she 's singing it . ''\n",
      "- id: 1728\n",
      " Description: According to vocalist/guitarist James Petralli , White Denim 's songs are the musical manifestations of abstract paintings or philosophical tracts .\\nHe explained to UK music magazine the NME : `` The things that I like to read are generally abstract .\\nI like patterns , I like reading poetry and avant-garde prose and I 'm more interested in musical patterns in literature than I am in long-form narratives .\\nI look at paintings and try to visualise an object or image , then assimilate how that makes me feel into a series of phrases and try to make it musical . ''\\nPetralli told the NME the song is about , `` creating work and weighing its importance . ''\\nThis meditative hoedown is loosely based on some excerpts from The Blue and Brown Books by Austrian philosopher Ludwig Wittgenstein .\\nPetralli told the NME : `` The lyric-writing process is like an excavation , I 'm trying to pull words and melodies out of what 's already there . ''\\nPetralli 's father is former Major League Baseball catcher Geno Petralli , whose career spanned 12 years , from 1982 to 1993 .\n",
      "- id: 504\n",
      " Description: Justin Timberlake ends his The 20/20 Experience album on an ambient note .\\nHe explained in an interview with MySpace that such songs as this tune and `` Strawberry Bubblegum '' were his attempts to put his own spin on Radiohead 's electronic rock .\\n`` I want people to close their eyes and listen to this album , '' he said .\\n`` I really do think my effort with the last album was to make people dance , and I think with this album , I wrote a lot of songs that make me want to sing ... and dance . ''\n",
      "- id: 8418\n",
      " Description: According to Cave , the songs on Push The Sky were composed from `` Googling curiosities -LSB- and -RSB- being entranced by exotic Wikipedia entries , '' with a focus on `` how on the internet profoundly significant events , momentary fads and mystically-tinged absurdities sit side-by-side . ''\\nThese digital fixations are prominent on this track , which finds Cave crooning , `` Wikipedia is heaven .\\nWhen you do n't want to remember anymore . ''\n",
      "- id: 92\n",
      " Description: The song 's lyric is sampled from `` Style Of The Streets , '' a 1984 hip-hop single by Mancunian rap group Broken Glass -LRB- whose members included future Black Grape member Kermit -RRB- .\\nIn the song , the rappers are dreaming of a time when they will be touring round the world , making lots of money and singing songs about girls .\\nThe song also samples D-Train 's `` You 're The One For Me . ''\n",
      "\n",
      "Each song entry consists of:\n",
      "- **id**: A unique identifier for the song.\n",
      "- **description**: A textual description of the song.\n",
      "\n",
      "### Instructions:\n",
      "1. **Analyze** the descriptions to find relevant information related to the question.\n",
      "2. **Synthesize** an answer using the most relevant songs.\n",
      "3. **Provide explanations** or insights if necessary.\n",
      "4. **Avoid speculation** beyond the provided descriptions.\n",
      "\n",
      "### Response:\n",
      "\n"
     ]
    }
   ],
   "source": [
    "def generate_llm_prompt(question, retrieved_songs):\n",
    "    \"\"\"Generate a structured prompt for an LLM to answer a question using retrieved song descriptions.\"\"\"\n",
    "    \n",
    "    prompt_template = \"\"\"You are an expert in analyzing song descriptions and answering user queries based on provided song data.\n",
    "\n",
    "### Task:\n",
    "Answer the following question based on the retrieved song descriptions. Use the given information to generate a relevant, concise, and insightful response.\n",
    "\n",
    "### Question:\n",
    "{question}\n",
    "\n",
    "### Retrieved Songs:\n",
    "{retrieved_songs}\n",
    "\n",
    "Each song entry consists of:\n",
    "- **id**: A unique identifier for the song.\n",
    "- **description**: A textual description of the song.\n",
    "\n",
    "### Instructions:\n",
    "1. **Analyze** the descriptions to find relevant information related to the question.\n",
    "2. **Synthesize** an answer using the most relevant songs.\n",
    "3. **Provide explanations** or insights if necessary.\n",
    "4. **Avoid speculation** beyond the provided descriptions.\n",
    "\n",
    "### Response:\n",
    "\"\"\"\n",
    "\n",
    "    # Format the retrieved songs as a structured string\n",
    "    song_entries = \"\\n\".join(\n",
    "        [f\"- id: {song['id']}\\n Description: {song['description']}\" for song in retrieved_songs]\n",
    "    )\n",
    "\n",
    "    return prompt_template.format(question=question, retrieved_songs=song_entries)\n",
    "\n",
    "llm_prompt = generate_llm_prompt(question, retrieved_songs)\n",
    "\n",
    "# Print the generated prompt\n",
    "print(llm_prompt)"
   ]
  },
  {
   "cell_type": "code",
   "execution_count": 14,
   "id": "b535252e-ebc0-4b0c-a5e2-75a59e505a63",
   "metadata": {},
   "outputs": [
    {
     "name": "stdout",
     "output_type": "stream",
     "text": [
      "2025-03-08 12:43:40,450 - httpx - INFO - HTTP Request: POST https://api.openai.com/v1/chat/completions \"HTTP/1.1 200 OK\"\n",
      "Yes, there are several songs in the dataset that mention a specific genre in their descriptions. \n",
      "\n",
      "Song with id: 366 mentions jazz as a genre in its description, stating that the song samples a track from Jazz saxophonist Bill Evans and that the artist used to listen to jazz melodies in his childhood.\n",
      "\n",
      "Song with id: 3095 refers to reggae-inspired genres like dancehall and dub. It describes how the song draws on these genres to paint the picture of an eccentric young woman.\n",
      "\n",
      "Song with id: 63 describes the band as a Pop band, indicating that their music falls within the pop genre. The description also mentions dance music.\n",
      "\n",
      "Song with id: 5982 is described as a pop-leaning toe-tapper, implying that it is within the pop genre.\n",
      "\n",
      "Song with id: 525 spans multiple genres, including folk, country, rock, and Americana. The song is described as one where the sisters rock out, indicating its rock genre.\n",
      "\n",
      "Song with id: 504 suggests that Justin Timberlake was trying to put his spin on Radiohead's electronic rock in this song, implying it falls within the electronic rock genre.\n",
      "\n",
      "Song with id: 92 is described as a hip-hop song, as it samples from a 1984 hip-hop single. The genre is clearly stated in the description of the song.\n",
      "\n"
     ]
    }
   ],
   "source": [
    "def chat_with_openai(llm_prompt, model=\"gpt-4\"):\n",
    "    \"\"\"Send the LLM prompt to OpenAI's API and get a response using the new OpenAI API (>=1.0.0).\"\"\"\n",
    "    try:\n",
    "        client = openai.OpenAI()  # New API requires initializing a client\n",
    "        response = client.chat.completions.create(\n",
    "            model=model,\n",
    "            messages=[\n",
    "                {\"role\": \"system\", \"content\": \"You are a helpful assistant that analyzes song descriptions.\"},\n",
    "                {\"role\": \"user\", \"content\": llm_prompt}\n",
    "            ],\n",
    "            temperature=0.7\n",
    "        )\n",
    "        return response.choices[0].message.content\n",
    "    except Exception as e:\n",
    "        print(f\"Error querying OpenAI: {e}\")\n",
    "        return None\n",
    "\n",
    "response = chat_with_openai(llm_prompt)\n",
    "print(response)"
   ]
  },
  {
   "cell_type": "markdown",
   "id": "5764d327-c12c-45d8-8fea-2de4415ce7d1",
   "metadata": {},
   "source": [
    "## Hybrid Search for QA System"
   ]
  },
  {
   "cell_type": "code",
   "execution_count": 15,
   "id": "f4f6de2d-ec72-42b6-b179-af7244a08ee4",
   "metadata": {},
   "outputs": [
    {
     "name": "stdout",
     "output_type": "stream",
     "text": [
      "[{'id': 3095, 'distance': 0.222947, 'description': \"This song draws on reggae-inspired genres like dancehall and dub to illustrate an eccentric young woman .\\\\n`` I love the picture of what this girl is like because I do believe , much like the narrator believes , that there is a person for every person , '' Kirsten Bush told CMT News .\\\\n`` There might even be more than one , but I do believe in it .\\\\nI 'm a hopeless and helpless romantic .\\\\nWhen that song started to unfold , we got to the bridge of it , and I was referencing dancehall , like hyip-dibi-dibi-dibi , hyip-dibi-dibi-dibi . ''\\\\nJennifer Nettles told CMT News that she embraced the chance to write lyrics based on the dub rhythm of the actual words .\\\\n`` The lyrics themselves can just be fun words that sound really ` riki-tiki ' to say , '' she noted .\\\\n`` It does n't have to always have to make narrative sense but just have fun with having fun words .\\\\nIf you remember the Sugar Hill Gang -LSB- a pioneering hip hop group in the '70s check out Rapper 's Delight -RSB- , when everybody wanted to learn ` hip-hop-hippa-to-the-hippity-hip-hop . '\\\\nEverybody wants to learn that .\\\\nIt 's fun to say . ''\"}, {'id': 63, 'distance': 0.2309018, 'description': \"Brooklyn quintet Friends may be a Pop band , but their lyrical content is more thoughtful than many others in their genre .\\\\n`` One thing that I think is really cool is to create a sense of joy and empowerment , '' said Samantha Urbani to The Independent .\\\\n`` But not just with a message of jubilant positivity - we have a song about death and anticipating it called ` Ideas on Ghosts , ' but it 's a dance song so you reach this level of cathartic movement and energised dancing , but with a sense of awareness of all the negativity and all of the sadness and all of the spectrum of human feelings .\\\\nI think it 's really cool because a lot of dance songs are just sexy come-ons .\\\\nThis is thinking persons ' pop music , I hope . ''\"}, {'id': 1728, 'distance': 0.2234166, 'description': \"According to vocalist/guitarist James Petralli , White Denim 's songs are the musical manifestations of abstract paintings or philosophical tracts .\\\\nHe explained to UK music magazine the NME : `` The things that I like to read are generally abstract .\\\\nI like patterns , I like reading poetry and avant-garde prose and I 'm more interested in musical patterns in literature than I am in long-form narratives .\\\\nI look at paintings and try to visualise an object or image , then assimilate how that makes me feel into a series of phrases and try to make it musical . ''\\\\nPetralli told the NME the song is about , `` creating work and weighing its importance . ''\\\\nThis meditative hoedown is loosely based on some excerpts from The Blue and Brown Books by Austrian philosopher Ludwig Wittgenstein .\\\\nPetralli told the NME : `` The lyric-writing process is like an excavation , I 'm trying to pull words and melodies out of what 's already there . ''\\\\nPetralli 's father is former Major League Baseball catcher Geno Petralli , whose career spanned 12 years , from 1982 to 1993 .\"}, {'id': 525, 'distance': 0.2299192, 'description': \"The Court Yard Hounds album spans sounds of folk , country , rock and Americana , and on this song about an angry , disapproving father , the sisters rock out .\\\\nThe Boot asked Martie Maguire if was there any concern about the genre that the music would fit into .\\\\nShe replied : `` Not really , because Emily was doing her own demos and she would give the songs to me and they were basically complete .\\\\nSome of them were guitar-vocal , but some of them had a Dobro part or had a garage-band drum loop , just to kind of get her idea across .\\\\nSo it was all in her head , and when I got them it was actually hard to add a full band to them because I was so married to the demos .\\\\nEmily does n't really write with a genre in mind , she writes with an idea or a melody , and that drives it .\\\\nI 'm the same kind of songwriter .\\\\n-LSB- I do n't say -RSB- ` I 'm gon na sit down and write a rock song ' or ` I 'm gon na sit down a write a country song . '\\\\nWe have a bluegrass background and that tends to seep into things , the kind of acoustic nature of things -LSB- on songs like -RSB- ` Ai n't No Son ' and ` The Coast , ' the very dry acoustic sound comes from our love of liking the natural sound of instruments .\\\\nIt 's not a very affected sound .\\\\nThat sometimes can lean more country or more acoustic , but ... when we put an electric guitar in there , that would take it in a rock direction .\\\\nI think Rolling Stone called it ` folk-rock , ' which I thought was an interesting categorization . ''\\\\nLyrically the song is an angry argument between a father and a son who 's revealed he is gay .\\\\nRobison was originally inspired to write the song after watching a documentary on children coming out.Maguire told the Australian newspaper Star Observer : `` We wrote it after Emily had watched a documentary about families who throw their young boys out of the house when they find out they 're gay .\\\\nShe was really disturbed by that mentality .\\\\nShe does n't like having to sing it from the father 's perspective , because she really has to become that person when she 's singing it . ''\"}, {'id': 8418, 'distance': 0.230859, 'description': \"According to Cave , the songs on Push The Sky were composed from `` Googling curiosities -LSB- and -RSB- being entranced by exotic Wikipedia entries , '' with a focus on `` how on the internet profoundly significant events , momentary fads and mystically-tinged absurdities sit side-by-side . ''\\\\nThese digital fixations are prominent on this track , which finds Cave crooning , `` Wikipedia is heaven .\\\\nWhen you do n't want to remember anymore . ''\"}]\n"
     ]
    }
   ],
   "source": [
    "retrieved_songs = G.search(\n",
    "    data=embedding,\n",
    "    vector_attribute_name=\"emb_1\",\n",
    "    node_type=\"Song\",\n",
    "    limit=5,\n",
    ")\n",
    "print(retrieved_songs)"
   ]
  },
  {
   "cell_type": "code",
   "execution_count": 16,
   "id": "0fed81ef-343b-4500-bdb4-8e89c20167cd",
   "metadata": {},
   "outputs": [
    {
     "name": "stdout",
     "output_type": "stream",
     "text": [
      "[{'SimilarSongs': [{'v_id': '2512', 'v_type': 'Song', 'attributes': {'id': 2512, 'description': \"This brooding song features the lyric , `` I believe in God . ''\\\\nSpeaking with The Sun , Cave put his apparent statement of faith into context into context .\\\\n`` I 'm talking about believing in God , believing in mermaids and believing in 72 virgins , '' he said .\\\\n`` The song starts reeling off the options and I think what I 'm really saying is I believe in the idea of believing in things.The fact that we humans have that capacity or need to believe is not a shameful thing as some people might see it , but hugely endearing . ''\\\\nCave also references an incident in December 2010 when he crashed his Jaguar car into a speed camera .\\\\n`` I do driver alertness course , '' he intones in his baritone croon .\\\\nThe singer and his twin sons all walked away from the accident unharmed , but Cave had to attend a driver alertness course as a punishment .\\\\n`` I rather liked it , '' he told The Sun .\\\\n`` Because it was really rehab for drivers and there was that kind of shameful look about the people there . ''\", '@sum_score': 0.95, '@visited': False}}, {'v_id': '4565', 'v_type': 'Song', 'attributes': {'id': 4565, 'description': \"This is the title track of Push The Sky Away , the fifteenth studio album by the Australian Alternative Rock band Nick Cave and the Bad Seeds .\\\\nIt was their first LP without founding member and multi-instrumentalist Mick Harvey .\\\\nProduced by Nick Launay , who helmed the band 's three previous studio albums , the record was recorded in the South of France at La Fabrique .\\\\nThe 19th Century mansion holds that country 's second largest collection of classical music on vinyl .\\\\nAccording to Cave , Push The Sky Away 's contemporary setting of myths are woven into details of life observed around his seaside home of Brighton .\\\\n`` These songs convey , '' he said , `` how on the Internet profoundly significant events , momentary fads and mystically-tinged absurdities sit side-by-side and question how we might recognise and assign weight to what 's genuinely important . ''\\\\nRegarding the meaning of this life-affirming song , Cave told The Sun : `` We all have this feeling of the world folding in on us .\\\\nWhether it 's environmental , the economy , nuclear or whatever , I do n't think there 's anyone on the planet who 's walking around thinking things are okay .\\\\n`` So to me , there 's this idea that we need to carry on and do what we do .\\\\nThe song is optimistic in that respect .\\\\nOf course it 's impossible to push the sky away but we need to try . ''\\\\nThe Push The Sky Away album debuted at # 1 in a number of countries including Australia , Austria , Belgium , Holland , New Zealand and Portugal .\\\\nThe Bad Seeds also scored their highest chart placing in the U.S. after the record landed at # 29 on the Billboard 200 .\\\\nThe album 's cover image shows Cave opening one of his bedroom Georgian window shutters to illuminate his naked wife , model Susie Bick .\\\\nSpeaking with The Guardian , Cave was at pains to point out the picture was n't his idea .\\\\nHe explained that he walked in on his wife 's photoshoot for a French magazine just as photographer Dominique Issermann happened to press the shutter button : `` I was more reluctant to use it than she was , to be honest , '' he said .\\\\nThe song features a children 's choir from the French school not far from the La Fabrique studio .\\\\nCave told The Sun : `` None of them could speak a word of English and did all the singing phonetically but they gave the whole thing a very beautiful , eerie feel . ''\", '@sum_score': 0.9435736677115988, '@visited': False}}, {'v_id': '5533', 'v_type': 'Song', 'attributes': {'id': 5533, 'description': \"This eerily restrained contemplative ballad finds Cave crooning about charred trees standing like `` pleading hands '' as we live with the consequences of modern day progress .\\\\nAsked by The Guardian about the text speak title , Cave replied , musing , `` Texting is apocalyptic on some level .\\\\nIt 's a reduction of things .\\\\nMaybe the last book , the last thing that ever gets written is just a bye , you know , goodbye in text speak . ''\", '@sum_score': 0.7642857142857143, '@visited': False}}, {'v_id': '5362', 'v_type': 'Song', 'attributes': {'id': 5362, 'description': \"Vocalist/guitarist James Petralli told UK music magazine the NME about this Rock-Operaesque tune , which veers into prog territory : `` I do n't think we 'll ever go full-on prog but all of us like to be challenged in that way .\\\\nWe listen to a lot of Soft Machine and a lot of Yes .\\\\nProg music is challenging and hilarious and we 've always wanted to do something which walks that line .\\\\n` Anvil Everything ' was our attempt to fulfil a bit of a prog fantasy , to see if we could make it acceptable . ''\", '@sum_score': 0.7105263157894737, '@visited': False}}, {'v_id': '2583', 'v_type': 'Song', 'attributes': {'id': 2583, 'description': \"Court Yard Hounds were founded as a side project of the Dixie Chicks by sisters Emily Robison and Martie Maguire .\\\\nOn August 6 , 2008 Robison divorced her husband , the songwriter Charlie Robison , after nine years of marriage and found herself pouring her feelings into songs such as this break-up cut .\\\\n`` Dysfunction and sadness lead to introspection , '' Robison told The New York Times .\\\\n`` All of a sudden I 'm divorced , and I have to redefine who I am .\\\\nAnd through some of these songs I had to dig deep to find my pre-married self . ''\", '@sum_score': 0.5739348370927317, '@visited': False}}]}]\n"
     ]
    }
   ],
   "source": [
    "retrieved_song_ids = [song[\"id\"] for song in retrieved_songs]\n",
    "neighbors = G.run_query(\"get_neighbors\", params={\"input\": retrieved_song_ids, \"k\": 5})\n",
    "print(neighbors)"
   ]
  },
  {
   "cell_type": "code",
   "execution_count": 17,
   "id": "1bfa89b1-3811-4687-a6e0-81f776b08e09",
   "metadata": {},
   "outputs": [],
   "source": [
    "# Convert vector search results to a list of dictionaries\n",
    "combined_results = {song[\"id\"]: {\n",
    "    \"id\": song[\"id\"],\n",
    "    \"description\": song[\"description\"]\n",
    "} for song in retrieved_songs}\n",
    "\n",
    "# Add graph search results (ensuring no duplicates)\n",
    "for song in neighbors[0][\"SimilarSongs\"]:\n",
    "    song_id = int(song[\"v_id\"])\n",
    "    if song_id not in combined_results:  # Avoid duplicates\n",
    "        combined_results[song_id] = {\n",
    "            \"id\": song_id,\n",
    "            \"description\": song[\"attributes\"][\"description\"]\n",
    "        }\n",
    "\n",
    "# Convert the merged dictionary back to a list format\n",
    "retrieved_songs_combined = list(combined_results.values())"
   ]
  },
  {
   "cell_type": "code",
   "execution_count": 18,
   "id": "9229d129-4c5f-4f02-8f3f-bd2e5ad8e2ce",
   "metadata": {},
   "outputs": [
    {
     "name": "stdout",
     "output_type": "stream",
     "text": [
      "You are an expert in analyzing song descriptions and answering user queries based on provided song data.\n",
      "\n",
      "### Task:\n",
      "Answer the following question based on the retrieved song descriptions. Use the given information to generate a relevant, concise, and insightful response.\n",
      "\n",
      "### Question:\n",
      "Are there any songs in the dataset that mention a specific genre (e.g., \"rock,\" \"jazz,\" \"pop\") in their descriptions?\n",
      "\n",
      "### Retrieved Songs:\n",
      "- id: 3095\n",
      " Description: This song draws on reggae-inspired genres like dancehall and dub to illustrate an eccentric young woman .\\n`` I love the picture of what this girl is like because I do believe , much like the narrator believes , that there is a person for every person , '' Kirsten Bush told CMT News .\\n`` There might even be more than one , but I do believe in it .\\nI 'm a hopeless and helpless romantic .\\nWhen that song started to unfold , we got to the bridge of it , and I was referencing dancehall , like hyip-dibi-dibi-dibi , hyip-dibi-dibi-dibi . ''\\nJennifer Nettles told CMT News that she embraced the chance to write lyrics based on the dub rhythm of the actual words .\\n`` The lyrics themselves can just be fun words that sound really ` riki-tiki ' to say , '' she noted .\\n`` It does n't have to always have to make narrative sense but just have fun with having fun words .\\nIf you remember the Sugar Hill Gang -LSB- a pioneering hip hop group in the '70s check out Rapper 's Delight -RSB- , when everybody wanted to learn ` hip-hop-hippa-to-the-hippity-hip-hop . '\\nEverybody wants to learn that .\\nIt 's fun to say . ''\n",
      "- id: 63\n",
      " Description: Brooklyn quintet Friends may be a Pop band , but their lyrical content is more thoughtful than many others in their genre .\\n`` One thing that I think is really cool is to create a sense of joy and empowerment , '' said Samantha Urbani to The Independent .\\n`` But not just with a message of jubilant positivity - we have a song about death and anticipating it called ` Ideas on Ghosts , ' but it 's a dance song so you reach this level of cathartic movement and energised dancing , but with a sense of awareness of all the negativity and all of the sadness and all of the spectrum of human feelings .\\nI think it 's really cool because a lot of dance songs are just sexy come-ons .\\nThis is thinking persons ' pop music , I hope . ''\n",
      "- id: 1728\n",
      " Description: According to vocalist/guitarist James Petralli , White Denim 's songs are the musical manifestations of abstract paintings or philosophical tracts .\\nHe explained to UK music magazine the NME : `` The things that I like to read are generally abstract .\\nI like patterns , I like reading poetry and avant-garde prose and I 'm more interested in musical patterns in literature than I am in long-form narratives .\\nI look at paintings and try to visualise an object or image , then assimilate how that makes me feel into a series of phrases and try to make it musical . ''\\nPetralli told the NME the song is about , `` creating work and weighing its importance . ''\\nThis meditative hoedown is loosely based on some excerpts from The Blue and Brown Books by Austrian philosopher Ludwig Wittgenstein .\\nPetralli told the NME : `` The lyric-writing process is like an excavation , I 'm trying to pull words and melodies out of what 's already there . ''\\nPetralli 's father is former Major League Baseball catcher Geno Petralli , whose career spanned 12 years , from 1982 to 1993 .\n",
      "- id: 525\n",
      " Description: The Court Yard Hounds album spans sounds of folk , country , rock and Americana , and on this song about an angry , disapproving father , the sisters rock out .\\nThe Boot asked Martie Maguire if was there any concern about the genre that the music would fit into .\\nShe replied : `` Not really , because Emily was doing her own demos and she would give the songs to me and they were basically complete .\\nSome of them were guitar-vocal , but some of them had a Dobro part or had a garage-band drum loop , just to kind of get her idea across .\\nSo it was all in her head , and when I got them it was actually hard to add a full band to them because I was so married to the demos .\\nEmily does n't really write with a genre in mind , she writes with an idea or a melody , and that drives it .\\nI 'm the same kind of songwriter .\\n-LSB- I do n't say -RSB- ` I 'm gon na sit down and write a rock song ' or ` I 'm gon na sit down a write a country song . '\\nWe have a bluegrass background and that tends to seep into things , the kind of acoustic nature of things -LSB- on songs like -RSB- ` Ai n't No Son ' and ` The Coast , ' the very dry acoustic sound comes from our love of liking the natural sound of instruments .\\nIt 's not a very affected sound .\\nThat sometimes can lean more country or more acoustic , but ... when we put an electric guitar in there , that would take it in a rock direction .\\nI think Rolling Stone called it ` folk-rock , ' which I thought was an interesting categorization . ''\\nLyrically the song is an angry argument between a father and a son who 's revealed he is gay .\\nRobison was originally inspired to write the song after watching a documentary on children coming out.Maguire told the Australian newspaper Star Observer : `` We wrote it after Emily had watched a documentary about families who throw their young boys out of the house when they find out they 're gay .\\nShe was really disturbed by that mentality .\\nShe does n't like having to sing it from the father 's perspective , because she really has to become that person when she 's singing it . ''\n",
      "- id: 8418\n",
      " Description: According to Cave , the songs on Push The Sky were composed from `` Googling curiosities -LSB- and -RSB- being entranced by exotic Wikipedia entries , '' with a focus on `` how on the internet profoundly significant events , momentary fads and mystically-tinged absurdities sit side-by-side . ''\\nThese digital fixations are prominent on this track , which finds Cave crooning , `` Wikipedia is heaven .\\nWhen you do n't want to remember anymore . ''\n",
      "- id: 2512\n",
      " Description: This brooding song features the lyric , `` I believe in God . ''\\nSpeaking with The Sun , Cave put his apparent statement of faith into context into context .\\n`` I 'm talking about believing in God , believing in mermaids and believing in 72 virgins , '' he said .\\n`` The song starts reeling off the options and I think what I 'm really saying is I believe in the idea of believing in things.The fact that we humans have that capacity or need to believe is not a shameful thing as some people might see it , but hugely endearing . ''\\nCave also references an incident in December 2010 when he crashed his Jaguar car into a speed camera .\\n`` I do driver alertness course , '' he intones in his baritone croon .\\nThe singer and his twin sons all walked away from the accident unharmed , but Cave had to attend a driver alertness course as a punishment .\\n`` I rather liked it , '' he told The Sun .\\n`` Because it was really rehab for drivers and there was that kind of shameful look about the people there . ''\n",
      "- id: 4565\n",
      " Description: This is the title track of Push The Sky Away , the fifteenth studio album by the Australian Alternative Rock band Nick Cave and the Bad Seeds .\\nIt was their first LP without founding member and multi-instrumentalist Mick Harvey .\\nProduced by Nick Launay , who helmed the band 's three previous studio albums , the record was recorded in the South of France at La Fabrique .\\nThe 19th Century mansion holds that country 's second largest collection of classical music on vinyl .\\nAccording to Cave , Push The Sky Away 's contemporary setting of myths are woven into details of life observed around his seaside home of Brighton .\\n`` These songs convey , '' he said , `` how on the Internet profoundly significant events , momentary fads and mystically-tinged absurdities sit side-by-side and question how we might recognise and assign weight to what 's genuinely important . ''\\nRegarding the meaning of this life-affirming song , Cave told The Sun : `` We all have this feeling of the world folding in on us .\\nWhether it 's environmental , the economy , nuclear or whatever , I do n't think there 's anyone on the planet who 's walking around thinking things are okay .\\n`` So to me , there 's this idea that we need to carry on and do what we do .\\nThe song is optimistic in that respect .\\nOf course it 's impossible to push the sky away but we need to try . ''\\nThe Push The Sky Away album debuted at # 1 in a number of countries including Australia , Austria , Belgium , Holland , New Zealand and Portugal .\\nThe Bad Seeds also scored their highest chart placing in the U.S. after the record landed at # 29 on the Billboard 200 .\\nThe album 's cover image shows Cave opening one of his bedroom Georgian window shutters to illuminate his naked wife , model Susie Bick .\\nSpeaking with The Guardian , Cave was at pains to point out the picture was n't his idea .\\nHe explained that he walked in on his wife 's photoshoot for a French magazine just as photographer Dominique Issermann happened to press the shutter button : `` I was more reluctant to use it than she was , to be honest , '' he said .\\nThe song features a children 's choir from the French school not far from the La Fabrique studio .\\nCave told The Sun : `` None of them could speak a word of English and did all the singing phonetically but they gave the whole thing a very beautiful , eerie feel . ''\n",
      "- id: 5533\n",
      " Description: This eerily restrained contemplative ballad finds Cave crooning about charred trees standing like `` pleading hands '' as we live with the consequences of modern day progress .\\nAsked by The Guardian about the text speak title , Cave replied , musing , `` Texting is apocalyptic on some level .\\nIt 's a reduction of things .\\nMaybe the last book , the last thing that ever gets written is just a bye , you know , goodbye in text speak . ''\n",
      "- id: 5362\n",
      " Description: Vocalist/guitarist James Petralli told UK music magazine the NME about this Rock-Operaesque tune , which veers into prog territory : `` I do n't think we 'll ever go full-on prog but all of us like to be challenged in that way .\\nWe listen to a lot of Soft Machine and a lot of Yes .\\nProg music is challenging and hilarious and we 've always wanted to do something which walks that line .\\n` Anvil Everything ' was our attempt to fulfil a bit of a prog fantasy , to see if we could make it acceptable . ''\n",
      "- id: 2583\n",
      " Description: Court Yard Hounds were founded as a side project of the Dixie Chicks by sisters Emily Robison and Martie Maguire .\\nOn August 6 , 2008 Robison divorced her husband , the songwriter Charlie Robison , after nine years of marriage and found herself pouring her feelings into songs such as this break-up cut .\\n`` Dysfunction and sadness lead to introspection , '' Robison told The New York Times .\\n`` All of a sudden I 'm divorced , and I have to redefine who I am .\\nAnd through some of these songs I had to dig deep to find my pre-married self . ''\n",
      "\n",
      "Each song entry consists of:\n",
      "- **id**: A unique identifier for the song.\n",
      "- **description**: A textual description of the song.\n",
      "\n",
      "### Instructions:\n",
      "1. **Analyze** the descriptions to find relevant information related to the question.\n",
      "2. **Synthesize** an answer using the most relevant songs.\n",
      "3. **Provide explanations** or insights if necessary.\n",
      "4. **Avoid speculation** beyond the provided descriptions.\n",
      "\n",
      "### Response:\n",
      "\n"
     ]
    }
   ],
   "source": [
    "llm_prompt = generate_llm_prompt(question, retrieved_songs_combined)\n",
    "\n",
    "# Print the generated prompt\n",
    "print(llm_prompt)"
   ]
  },
  {
   "cell_type": "code",
   "execution_count": 19,
   "id": "647e1dcd-07ef-4bb2-a4ec-9241090adbea",
   "metadata": {},
   "outputs": [
    {
     "name": "stdout",
     "output_type": "stream",
     "text": [
      "2025-03-08 12:43:53,555 - httpx - INFO - HTTP Request: POST https://api.openai.com/v1/chat/completions \"HTTP/1.1 200 OK\"\n",
      "Yes, there are several songs in the dataset that mention specific genres in their descriptions. \n",
      "\n",
      "1. The song with id: 3095 draws on reggae-inspired genres like dancehall and dub and also makes a reference to a pioneering hip hop group from the '70s, the Sugar Hill Gang. \n",
      "\n",
      "2. The song with id: 63 is by the Brooklyn quintet Friends. They are identified as a pop band but they believe their lyrical content is more thoughtful than many others in their genre. \n",
      "\n",
      "3. The song with id: 525 by The Court Yard Hounds spans genres of folk, country, rock, and Americana. The song also mentions a bluegrass background which influences the music. Rolling Stone categorized their music as 'folk-rock'. \n",
      "\n",
      "4. The song with id: 4565 is from the Australian Alternative Rock band Nick Cave and the Bad Seeds. \n",
      "\n",
      "5. The song with id: 5362 by James Petralli veers into prog (progressive rock) territory and mentions influences from Soft Machine and Yes, both known for their contributions to prog music.\n"
     ]
    }
   ],
   "source": [
    "response = chat_with_openai(llm_prompt)\n",
    "print(response)"
   ]
  },
  {
   "cell_type": "markdown",
   "id": "cd52ed6a-bbe5-437b-afd0-9adf4065c06e",
   "metadata": {},
   "source": [
    "## Drop Graph"
   ]
  },
  {
   "cell_type": "code",
   "execution_count": 20,
   "id": "8712066b-7452-4852-97f7-d06dfa5debe3",
   "metadata": {},
   "outputs": [
    {
     "name": "stdout",
     "output_type": "stream",
     "text": [
      "2025-03-08 12:43:58,321 - tigergraphx.core.managers.schema_manager - INFO - Dropping graph: KGRec...\n",
      "2025-03-08 12:44:01,459 - tigergraphx.core.managers.schema_manager - INFO - Graph dropped successfully.\n"
     ]
    }
   ],
   "source": [
    ">>> G.drop_graph()"
   ]
  },
  {
   "cell_type": "markdown",
   "id": "8e47a026-003c-46b3-b743-5265b64e0d79",
   "metadata": {},
   "source": [
    "---"
   ]
  }
 ],
 "metadata": {
  "kernelspec": {
   "display_name": "Python 3 (ipykernel)",
   "language": "python",
   "name": "python3"
  },
  "language_info": {
   "codemirror_mode": {
    "name": "ipython",
    "version": 3
   },
   "file_extension": ".py",
   "mimetype": "text/x-python",
   "name": "python",
   "nbconvert_exporter": "python",
   "pygments_lexer": "ipython3",
   "version": "3.12.6"
  }
 },
 "nbformat": 4,
 "nbformat_minor": 5
}
