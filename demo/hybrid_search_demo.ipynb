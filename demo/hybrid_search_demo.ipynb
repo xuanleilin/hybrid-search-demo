{
 "cells": [
  {
   "cell_type": "markdown",
   "id": "9aba064b-ce44-4a55-bd44-5ca3364a079f",
   "metadata": {},
   "source": [
    "# Hybrid Search Demo\n",
    "## Create Graph Schema"
   ]
  },
  {
   "cell_type": "code",
   "execution_count": 1,
   "id": "d50318bf-37dd-432d-b566-c44add026ab0",
   "metadata": {},
   "outputs": [],
   "source": [
    ">>> import os\n",
    ">>> os.environ[\"TG_HOST\"] = \"http://127.0.0.1\"\n",
    ">>> os.environ[\"TG_USERNAME\"] = \"tigergraph\"\n",
    ">>> os.environ[\"TG_PASSWORD\"] = \"tigergraph\""
   ]
  },
  {
   "cell_type": "code",
   "execution_count": 2,
   "id": "38808548-6140-44a5-a08c-86a3816a51bd",
   "metadata": {},
   "outputs": [],
   "source": [
    ">>> graph_schema = {\n",
    "...     \"graph_name\": \"KGRec\",\n",
    "...     \"nodes\": {\n",
    "...         \"User\": {\n",
    "...             \"primary_key\": \"id\",\n",
    "...             \"attributes\": {\n",
    "...                 \"id\": \"INT\",\n",
    "...             },\n",
    "...         },\n",
    "...         \"Song\": {\n",
    "...             \"primary_key\": \"id\",\n",
    "...             \"attributes\": {\n",
    "...                 \"id\": \"INT\",\n",
    "...                 \"description\": \"STRING\",\n",
    "...             },\n",
    "...             \"vector_attributes\": {\"emb_1\": 1536},\n",
    "...         },\n",
    "...     },\n",
    "...     \"edges\": {\n",
    "...         \"downloaded\": {\n",
    "...             \"is_directed_edge\": False,\n",
    "...             \"from_node_type\": \"User\",\n",
    "...             \"to_node_type\": \"Song\",\n",
    "...         },\n",
    "...         \"similar_to\": {\n",
    "...             \"is_directed_edge\": False,\n",
    "...             \"from_node_type\": \"Song\",\n",
    "...             \"to_node_type\": \"Song\",\n",
    "...             \"attributes\": {\n",
    "...                 \"score\": \"DOUBLE\",\n",
    "...             },\n",
    "...         },\n",
    "...     },\n",
    "... }"
   ]
  },
  {
   "cell_type": "code",
   "execution_count": 3,
   "id": "f4f36935-a3db-4cd6-9633-db2122851169",
   "metadata": {},
   "outputs": [],
   "source": [
    ">>> from tigergraphx import Graph\n",
    ">>> G = Graph(graph_schema)"
   ]
  },
  {
   "cell_type": "markdown",
   "id": "becf3ea0-20b3-4e72-bf34-ccb7d0ba288e",
   "metadata": {},
   "source": [
    "## Load Data"
   ]
  },
  {
   "cell_type": "code",
   "execution_count": 7,
   "id": "51e5d71c-b656-4c22-b189-a522f0e7a97c",
   "metadata": {},
   "outputs": [],
   "source": [
    ">>> loading_job_config = {\n",
    "...     \"loading_job_name\": \"loading_job\",\n",
    "...     \"files\": [\n",
    "...         {\n",
    "...             \"file_alias\": \"f_song\",\n",
    "...             \"file_path\": \"/home/tigergraph/data/KGRec/song_embeddings.csv\",\n",
    "...             \"csv_parsing_options\": {\n",
    "...                 \"separator\": \",\",\n",
    "...                 \"header\": True,\n",
    "...             },\n",
    "...             \"node_mappings\": [\n",
    "...                 {\n",
    "...                     \"target_name\": \"Song\",\n",
    "...                     \"attribute_column_mappings\": {\n",
    "...                         \"id\": \"item_id\",\n",
    "...                         \"description\": \"description\",\n",
    "...                         \"emb_1\": 'SPLIT($\"embedding\", \" \")',\n",
    "...                     },\n",
    "...                 }\n",
    "...             ],\n",
    "...         },\n",
    "...         {\n",
    "...             \"file_alias\": \"f_downloads\",\n",
    "...             \"file_path\": \"/home/tigergraph/data/KGRec/implicit_lf_dataset.csv\",\n",
    "...             \"csv_parsing_options\": {\n",
    "...                 \"separator\": \"\\t\",\n",
    "...                 \"header\": False,\n",
    "...             },\n",
    "...             \"node_mappings\": [\n",
    "...                 {\n",
    "...                     \"target_name\": \"User\",\n",
    "...                     \"attribute_column_mappings\": {\n",
    "...                         \"id\": 0,\n",
    "...                     },\n",
    "...                 },\n",
    "...                 {\n",
    "...                     \"target_name\": \"Song\",\n",
    "...                     \"attribute_column_mappings\": {\n",
    "...                         \"id\": 1,\n",
    "...                     },\n",
    "...                 }\n",
    "...             ],\n",
    "...             \"edge_mappings\": [\n",
    "...                 {\n",
    "...                     \"target_name\": \"downloaded\",\n",
    "...                     \"source_node_column\": 0,\n",
    "...                     \"target_node_column\": 1,\n",
    "...                 }\n",
    "...             ],\n",
    "...         },\n",
    "...         {\n",
    "...             \"file_alias\": \"f_similar_to\",\n",
    "...             \"file_path\": \"/home/tigergraph/data/KGRec/similar_songs.csv\",\n",
    "...             \"csv_parsing_options\": {\n",
    "...                 \"separator\": \",\",\n",
    "...                 \"header\": True,\n",
    "...             },\n",
    "...             \"edge_mappings\": [\n",
    "...                 {\n",
    "...                     \"target_name\": \"similar_to\",\n",
    "...                     \"source_node_column\": \"song_id_1\",\n",
    "...                     \"target_node_column\": \"song_id_2\",\n",
    "...                     \"attribute_column_mappings\": {\n",
    "...                         \"score\": \"similarity_score\",\n",
    "...                     },\n",
    "...                 }\n",
    "...             ],\n",
    "...         },\n",
    "...     ],\n",
    "... }"
   ]
  },
  {
   "cell_type": "code",
   "execution_count": 8,
   "id": "d1b77573-6b59-4c3b-be0e-efac78de6c35",
   "metadata": {},
   "outputs": [
    {
     "name": "stdout",
     "output_type": "stream",
     "text": [
      "2025-03-07 11:26:21,494 - tigergraphx.core.managers.data_manager - INFO - Initiating data load for job: loading_job...\n",
      "2025-03-07 11:26:34,448 - tigergraphx.core.managers.data_manager - INFO - Data load completed successfully.\n"
     ]
    }
   ],
   "source": [
    ">>> G.load_data(loading_job_config)"
   ]
  },
  {
   "cell_type": "markdown",
   "id": "c0e94e90-2493-44f3-a08e-54a67d28e232",
   "metadata": {},
   "source": [
    "## Graph-based Similarity Search"
   ]
  },
  {
   "cell_type": "code",
   "execution_count": 82,
   "id": "24e278ff-d310-4fd2-a6a2-4c84c200366e",
   "metadata": {},
   "outputs": [
    {
     "name": "stdout",
     "output_type": "stream",
     "text": [
      "{'v_id': '4425', 'v_type': 'Song', 'attributes': {'id': 4425, 'description': \"Thousand Foot Krutch vocalist Trevor McNevan -LRB- from NewReleaseTuesday -RRB- : `` This is another firecracker , more of an adrenaline rock song .\\\\nI could n't help but picture NASCAR drivers flying by on the track to this .\\\\nI love big , anthemic songs that are calls to action - so this one is case and point . ''\", '@sum_score': 4.889628140900233, '@visited': False}}\n",
      "{'v_id': '5148', 'v_type': 'Song', 'attributes': {'id': 5148, 'description': \"TFK frontman/songwriter Trevor McNevan had the idea for this song for some time .\\\\nHe told NewReleaseTuesday : `` Although it 's in the same vein as some of our other high-octane songs , like ` Fire It Up , ' it 's quite different .\\\\nI wanted it to have that U2 Vertigo type vibe ; that big stadium energy with single notes on the main guitar riff , instead of chords . ''\\\\nThis was a challenge for McNevan to sing as its one of the highest songs vocally he 's written to date .\\\\nHe told NewReleaseTuesday : `` With every record , you try to push yourself .\\\\nWhen your writing it 's no big deal , but when you get tracking , you realize , ` wow , I 'm gon na really have to step into this ! '\\\\nAnd this was the first song written for the new album that had actual rhyming in it .\\\\nI grew up on old school hip hop and have always been into rhyming .\\\\nThat 's where I came from , and I think it has given me a lot of unique advantages as a vocalist and as a writer .\\\\nIt also has its setbacks .\\\\nYou have to remember that not everybody is listening for a clever or witty lyric or vocal pattern , and it can easily throw them off or sometimes just go right over their heads .\\\\nI hate predictable rhymes .\\\\nThis song is like an explosive ; it builds and then explodes , comes right back down , builds , and then explodes again .\\\\nMusical pyro !!! I wanted the listener to feel the energy , and feel the emotion behind it .\\\\nIt 's a call to action . ''\", '@sum_score': 4.86320423567724, '@visited': False}}\n",
      "{'v_id': '3782', 'v_type': 'Song', 'attributes': {'id': 3782, 'description': \"Thousand Foot Krutch vocalist Trevor McNevan told NewReleaseTuesday he is utilizing the slang version of `` wicked '' in this song rather than its original malevolent meaning .\\\\nHe explained : `` I know what you 're thinking ... the word ` Wicked ' can be associated with a million negative things , but for me , as a Canadian , it has always been a word associated with something great - no different than the word ` awesome ' or ` going to the fence , ' ` giving it all you got ' so to speak . ''\\\\nLyrically this song is about the tendency for some Christians to be `` too nice '' and get treated like doormats .\\\\nMcNevan told NewReleaseTuesday : `` I was inspired to write this based on the saying , ` Do n't mistake kindness for weakness . '\\\\nI heard that once , and it 's always resonated with me .\\\\nI think as Christians , we can tend to be too nice , and let people walk all over us .\\\\nThis is n't a song promoting violence or anything of that nature , it 's more of a statement , saying , ` my faith 's my life , but that does n't mean you can walk all over me . ' ''\", '@sum_score': 4.765656926227134, '@visited': False}}\n",
      "{'v_id': '4512', 'v_type': 'Song', 'attributes': {'id': 4512, 'description': \"Guitarist Anthony Armstrong explained the song to AntiMusic : `` It 's about leaving the past behind us .\\\\nFinally we see that we can close the door on our skeletons and make preparations for a future that is bound to hold new and exciting opportunities in every fascist of our lives .\\\\nWe will no longer hold back the life that we have denied ourselves and see that the best is yet to come . ''\", '@sum_score': 4.560871247880393, '@visited': False}}\n"
     ]
    }
   ],
   "source": [
    ">>> graph_search_results = G.run_query(\"graph_based_similarity_search\", params={\"input\": 17418216, \"k\": 4})\n",
    ">>> for result in graph_search_results:\n",
    "...     for key, songs in result.items():\n",
    "...         for song in songs:\n",
    "...             print(song)"
   ]
  },
  {
   "cell_type": "markdown",
   "id": "4e614896-cd2b-4c8c-9162-302652556a79",
   "metadata": {},
   "source": [
    "## Vector-based Similarity Search"
   ]
  },
  {
   "cell_type": "code",
   "execution_count": 83,
   "id": "ab135661-e576-41c7-b7bc-e1e37f1721ad",
   "metadata": {},
   "outputs": [
    {
     "name": "stdout",
     "output_type": "stream",
     "text": [
      "(59, 1536)\n"
     ]
    }
   ],
   "source": [
    ">>> import numpy as np\n",
    ">>> df = G.get_neighbors(start_nodes=17418216, start_node_type=\"User\", edge_types=\"downloaded\")\n",
    ">>> song_ids = set(df['id'])\n",
    ">>> songs = G.fetch_nodes(song_ids, vector_attribute_name=\"emb_1\", node_type=\"Song\")\n",
    ">>> embeddings = np.array(list(songs.values()))\n",
    ">>> user_embedding = np.mean(embeddings, axis=0)\n",
    ">>> print(embeddings.shape)"
   ]
  },
  {
   "cell_type": "code",
   "execution_count": 84,
   "id": "5357e183-9972-46b4-a560-7cd5172c21a3",
   "metadata": {},
   "outputs": [
    {
     "name": "stdout",
     "output_type": "stream",
     "text": [
      "(1536,)\n"
     ]
    }
   ],
   "source": [
    "print(user_embedding.shape)"
   ]
  },
  {
   "cell_type": "code",
   "execution_count": 85,
   "id": "5b6b5dc1-4441-46dd-9290-6f857ee39c68",
   "metadata": {},
   "outputs": [
    {
     "name": "stdout",
     "output_type": "stream",
     "text": [
      "{'id': 2424, 'distance': 0.08361697, 'description': \"Lead singer Christian Lindskog : `` This was a possible title for the record for me .\\\\nIt was one of the first things I wrote and was very much tied to the intro piece .\\\\nDuring my time in Africa I dealt with a lot of conflict about my feelings towards what I was seeing .\\\\nThere is so much devastation it is hard not to become numb to it and just shut down .\\\\nWhen I came home I found the same thing was really true for everything we have to deal with from our TV sets .\\\\nI had n't seen any TV for 6 weeks and when I turned it back on I was so shocked by what I was seeing and I realized we become numb to the things that come out of our TV everyday .\\\\nThe lyric was actually pretty much improvised in the studio .\\\\nIt was one of the first vocals I did .\\\\nWith every record we make it seems like I never have the lyrics ready until the last minute , and sometime not even then !\\\\nSo I ended up working on things at the mic .\\\\nThis was definitely one of those .\\\\nThe idea of the frost in the grass is one I really love .\\\\nIt always looks so beautiful when you see a field covered in frost .\\\\nI want to take my shoes off and run in it , but the reality is , ITS COLD .\\\\nAnd eventually its not just your feet that are cold , but your whole body .\\\\nPeople 's hearts are slowly becoming colder , emotions are being replaced , we want to escape from ourselves .\\\\nWe are on a treadmill of performance but performance without purpose .\\\\nYou can blame society but we are society .\\\\nEventually what is in your heart makes you take a stand .\\\\nDrummer Marcus Dahlstrom : `` I have kind of a thing on the side writing electronic music .\\\\nI love it .\\\\nI have a lot of music like this and Simon heard this one track I was working on and thought we should turn it into a Blindside song .\\\\nI was a little unsure about how we would make it work but he found a way to translate the riff to the guitar .\\\\nSo I started to play what I had programmed and we ended up with the basic structure of the song .\\\\nWe experimented with this track a lot .\\\\nFrom this original idea to convert an electronic track to something more organic .\\\\nOne night Lasse and I were in the studio fooling around with some delays to spice the song up a bit and we ended up with a very strange layering of delays .\\\\nWe played around with some EQ and ended up with a very atmospheric piece that sounded nothing like the original song .\\\\nThat actually turned into the basis for music beneath the intro .\\\\nThen Simon and Christian did there thing and then we had the intro !\\\\nI also played a second drum part at half speed on the end of this song and then we doubled it to bring it up to tempo .\\\\nIt is the high sound you hear on the final chorus .\\\\nA lot of people think it is programming , but it is all live drums . ''\\\\n-LRB- thanks , Tim - PGH , PA , for above 2 -RRB-\"}\n",
      "{'id': 7103, 'distance': 0.08542156, 'description': \"Frontman and songwriter Conor O'Brien told The Daily Telegraph that this atheist anthem started out `` pretty mental , drum and bass electronica , lyrics about cities crumbling and people dying , sounds of fire and apocalyptic thing .\\\\n`` After rehearsing the song with his band , it gradually transformed into `` a pretty straightforward folk rock song about smiling into the void . ''\\\\nRegarding the song 's meaning , O'Brien told The Sun it , `` is a sort of ode to meaninglessness , that absolute void that we all feel at some stage in our lives , if not every single day .\\\\nIt sort of proposes that this void is the very thing that binds us all together as human beings on this planet . ''\\\\nO'Brien described this song to The Sun , as a `` tragi-comedy . ''\\\\nadding that he `` was very much influenced by Slaughterhouse-Five by Kurt Vonnegut - that feeling of deep , dark moments being placed alongside compulsive hilarity .\\\\n`` American writer Kurt Vonnegut -LRB- 1922 - 2007 -RRB- was a 20th-century American writer , who was known for his humanist beliefs and satirical novels .\\\\nSlaughterhouse-Five -LRB- 1969 -RRB- , which is generally recognized as Vonnegut 's most influential and popular work , drew on his experience as a World War II prisoner of war in Germany when he witnessed the destructive bombing of Dresden .\\\\nVonnegut was one of a group to survive the attack in an underground slaughterhouse meat locker used by the Germans as an ad hoc detention facility .\\\\nHis satirical novel has inspired a number of other songs .\\\\nThey include : `` Everything Is Automatic '' by Matthew Good -LRB- The lyric `` Those birds are singing '' was taken from a line in the book -RRB- .\\\\n`` And So It Goes '' by Billy Joel and `` So It Goes . ''\\\\n-LRB- Both song titles taken from a recurring line in the book used every time a death occurs -RRB- Also English alternative rock band Billy Pilgrim took their name from the novel 's soldier protagonist .\\\\nThis was the only song on -LRB- Awayland -RRB- that was written by O'Brien in one session .\\\\nHe explained to WhiteTapes : `` I literally woke up and it was in my head .\\\\nLike a Paul McCartney moment .\\\\nThis never happened to me before or after .\\\\nI just sang it to my computer and recorded so that was a quick song .\\\\nThe others were very long and slow and just , really teasing . ''\"}\n",
      "{'id': 5274, 'distance': 0.08488798, 'description': \"This track not only musically slows down the pulse , but it also seems to wrap up the album in a sentimental , philosophical way .\\\\nWhen we spoke with lead singer Chris Henderson , he explained : `` The concept of this tune is simple in theory , yet many people -LRB- myself included -RRB- seem to have a hard time executing : If you are unhappy or unsatisfied , do something to change it .\\\\nDo n't stick around here to feed the mouth that bites you .\\\\nI was hoping the lyrics could apply to anyone who recognizes that they could have something better and that the only way to do it was make the change happen for yourself . ''\\\\nHenderson has spoken before about his pre-music gigs , and one ca n't help but wonder if , at some point along that path , he was driven to take his own advice after the droning 9-5 world .\\\\n`` I was more or less a butler/personal assistant to a lawyer in Hartford .\\\\nWe do n't have enough time in the day to talk about that job -- it was interesting working with a very quirky gentleman . ''\"}\n",
      "{'id': 5996, 'distance': 0.08263087, 'description': \"Frontman Justin Pierre told Alternative Press that the genesis of this song harks back to 2007 : `` The original idea for this song came while we were recording Even If It Kills Me .\\\\nI had a few lines for verses and part of the chorus , but I was n't sure where it was going .\\\\nThere was n't enough time to explore it back then , so we saved it for this record .\\\\nI had this strange image in my head of two people sitting on the roof of a house at night in the fall , shivering slightly and silently together ; their only comfort each other .\\\\nI see this song as a melancholy anthem for those of us who really wish we were more than just a science experiment , but fear that that 's probably not the case . ''\"}\n"
     ]
    }
   ],
   "source": [
    ">>> vector_search_results = G.search(\n",
    "...     data=user_embedding.tolist(),\n",
    "...     vector_attribute_name=\"emb_1\",\n",
    "...     node_type=\"Song\",\n",
    "...     limit=4,\n",
    "...     return_attributes=[\"id\", \"description\"]\n",
    "... )\n",
    ">>> for node in vector_search_results:\n",
    "...     print(node)"
   ]
  },
  {
   "cell_type": "markdown",
   "id": "826be2ae-2374-4486-83b8-e373eb7c9ba3",
   "metadata": {},
   "source": [
    "## Hybrid Search"
   ]
  },
  {
   "cell_type": "code",
   "execution_count": 86,
   "id": "effc1203-cc9f-4789-91dd-32fbe95b43d4",
   "metadata": {},
   "outputs": [
    {
     "name": "stdout",
     "output_type": "stream",
     "text": [
      "ID: 4425\n",
      "Hybrid Score: 0.5000\n",
      "Description: Thousand Foot Krutch vocalist Trevor McNevan -LRB- from NewReleaseTuesday -RRB- : `` This is another firecracker , more of an adrenaline rock song .\\nI could n't help but picture NASCAR drivers flying by on the track to this .\\nI love big , anthemic songs that are calls to action - so this one is case and point . ''\n",
      "--------------------------------------------------------------------------------\n",
      "ID: 5996\n",
      "Hybrid Score: 0.5000\n",
      "Description: Frontman Justin Pierre told Alternative Press that the genesis of this song harks back to 2007 : `` The original idea for this song came while we were recording Even If It Kills Me .\\nI had a few lines for verses and part of the chorus , but I was n't sure where it was going .\\nThere was n't enough time to explore it back then , so we saved it for this record .\\nI had this strange image in my head of two people sitting on the roof of a house at night in the fall , shivering slightly and silently together ; their only comfort each other .\\nI see this song as a melancholy anthem for those of us who really wish we were more than just a science experiment , but fear that that 's probably not the case . ''\n",
      "--------------------------------------------------------------------------------\n",
      "ID: 5148\n",
      "Hybrid Score: 0.4598\n",
      "Description: TFK frontman/songwriter Trevor McNevan had the idea for this song for some time .\\nHe told NewReleaseTuesday : `` Although it 's in the same vein as some of our other high-octane songs , like ` Fire It Up , ' it 's quite different .\\nI wanted it to have that U2 Vertigo type vibe ; that big stadium energy with single notes on the main guitar riff , instead of chords . ''\\nThis was a challenge for McNevan to sing as its one of the highest songs vocally he 's written to date .\\nHe told NewReleaseTuesday : `` With every record , you try to push yourself .\\nWhen your writing it 's no big deal , but when you get tracking , you realize , ` wow , I 'm gon na really have to step into this ! '\\nAnd this was the first song written for the new album that had actual rhyming in it .\\nI grew up on old school hip hop and have always been into rhyming .\\nThat 's where I came from , and I think it has given me a lot of unique advantages as a vocalist and as a writer .\\nIt also has its setbacks .\\nYou have to remember that not everybody is listening for a clever or witty lyric or vocal pattern , and it can easily throw them off or sometimes just go right over their heads .\\nI hate predictable rhymes .\\nThis song is like an explosive ; it builds and then explodes , comes right back down , builds , and then explodes again .\\nMusical pyro !!! I wanted the listener to feel the energy , and feel the emotion behind it .\\nIt 's a call to action . ''\n",
      "--------------------------------------------------------------------------------\n",
      "ID: 2424\n",
      "Hybrid Score: 0.3233\n",
      "Description: Lead singer Christian Lindskog : `` This was a possible title for the record for me .\\nIt was one of the first things I wrote and was very much tied to the intro piece .\\nDuring my time in Africa I dealt with a lot of conflict about my feelings towards what I was seeing .\\nThere is so much devastation it is hard not to become numb to it and just shut down .\\nWhen I came home I found the same thing was really true for everything we have to deal with from our TV sets .\\nI had n't seen any TV for 6 weeks and when I turned it back on I was so shocked by what I was seeing and I realized we become numb to the things that come out of our TV everyday .\\nThe lyric was actually pretty much improvised in the studio .\\nIt was one of the first vocals I did .\\nWith every record we make it seems like I never have the lyrics ready until the last minute , and sometime not even then !\\nSo I ended up working on things at the mic .\\nThis was definitely one of those .\\nThe idea of the frost in the grass is one I really love .\\nIt always looks so beautiful when you see a field covered in frost .\\nI want to take my shoes off and run in it , but the reality is , ITS COLD .\\nAnd eventually its not just your feet that are cold , but your whole body .\\nPeople 's hearts are slowly becoming colder , emotions are being replaced , we want to escape from ourselves .\\nWe are on a treadmill of performance but performance without purpose .\\nYou can blame society but we are society .\\nEventually what is in your heart makes you take a stand .\\nDrummer Marcus Dahlstrom : `` I have kind of a thing on the side writing electronic music .\\nI love it .\\nI have a lot of music like this and Simon heard this one track I was working on and thought we should turn it into a Blindside song .\\nI was a little unsure about how we would make it work but he found a way to translate the riff to the guitar .\\nSo I started to play what I had programmed and we ended up with the basic structure of the song .\\nWe experimented with this track a lot .\\nFrom this original idea to convert an electronic track to something more organic .\\nOne night Lasse and I were in the studio fooling around with some delays to spice the song up a bit and we ended up with a very strange layering of delays .\\nWe played around with some EQ and ended up with a very atmospheric piece that sounded nothing like the original song .\\nThat actually turned into the basis for music beneath the intro .\\nThen Simon and Christian did there thing and then we had the intro !\\nI also played a second drum part at half speed on the end of this song and then we doubled it to bring it up to tempo .\\nIt is the high sound you hear on the final chorus .\\nA lot of people think it is programming , but it is all live drums . ''\\n-LRB- thanks , Tim - PGH , PA , for above 2 -RRB-\n",
      "--------------------------------------------------------------------------------\n"
     ]
    },
    {
     "name": "stderr",
     "output_type": "stream",
     "text": [
      "/var/folders/j1/w05bp_fj6nv3tsb66nj2rmhm0000gn/T/ipykernel_49927/2294285657.py:51: FutureWarning: A value is trying to be set on a copy of a DataFrame or Series through chained assignment using an inplace method.\n",
      "The behavior will change in pandas 3.0. This inplace method will never work because the intermediate object on which we are setting values always behaves as a copy.\n",
      "\n",
      "For example, when doing 'df[col].method(value, inplace=True)', try using 'df.method({col: value}, inplace=True)' or df[col] = df[col].method(value) instead, to perform the operation inplace on the original object.\n",
      "\n",
      "\n",
      "  df_merged['graph_score_norm'].fillna(0, inplace=True)\n",
      "/var/folders/j1/w05bp_fj6nv3tsb66nj2rmhm0000gn/T/ipykernel_49927/2294285657.py:52: FutureWarning: A value is trying to be set on a copy of a DataFrame or Series through chained assignment using an inplace method.\n",
      "The behavior will change in pandas 3.0. This inplace method will never work because the intermediate object on which we are setting values always behaves as a copy.\n",
      "\n",
      "For example, when doing 'df[col].method(value, inplace=True)', try using 'df.method({col: value}, inplace=True)' or df[col] = df[col].method(value) instead, to perform the operation inplace on the original object.\n",
      "\n",
      "\n",
      "  df_merged['vector_score_norm'].fillna(0, inplace=True)\n",
      "/var/folders/j1/w05bp_fj6nv3tsb66nj2rmhm0000gn/T/ipykernel_49927/2294285657.py:53: FutureWarning: A value is trying to be set on a copy of a DataFrame or Series through chained assignment using an inplace method.\n",
      "The behavior will change in pandas 3.0. This inplace method will never work because the intermediate object on which we are setting values always behaves as a copy.\n",
      "\n",
      "For example, when doing 'df[col].method(value, inplace=True)', try using 'df.method({col: value}, inplace=True)' or df[col] = df[col].method(value) instead, to perform the operation inplace on the original object.\n",
      "\n",
      "\n",
      "  df_merged['description_x'].fillna(df_merged['description_y'], inplace=True)\n"
     ]
    }
   ],
   "source": [
    "# Extract graph-based recommendations\n",
    "graph_recs = []\n",
    "for result in graph_search_results:\n",
    "    if isinstance(result, dict):  # Ensure result is a dictionary\n",
    "        for key, songs in result.items():\n",
    "            if isinstance(songs, list):  # Ensure songs is a list\n",
    "                for song in songs:\n",
    "                    if isinstance(song, dict) and 'attributes' in song:\n",
    "                        graph_recs.append({\n",
    "                            \"id\": int(song.get('v_id', 0)),  # Default ID to 0 if missing\n",
    "                            \"graph_score\": song['attributes'].get('@sum_score', 0),  # Default to 0 if missing\n",
    "                            \"description\": song['attributes'].get('description', 'No description available')  # Default description\n",
    "                        })\n",
    "\n",
    "# Extract vector-based recommendations\n",
    "vector_recs = [\n",
    "    {\n",
    "        \"id\": int(node.get(\"id\", 0)),  # Default ID to 0 if missing\n",
    "        \"vector_distance\": node.get(\"distance\", 1.0),  # Default max distance to 1.0\n",
    "        \"description\": node.get(\"description\", \"No description available\")  # Default description\n",
    "    }\n",
    "    for node in vector_search_results\n",
    "]\n",
    "\n",
    "# Convert to DataFrame\n",
    "df_graph = pd.DataFrame(graph_recs)\n",
    "df_vector = pd.DataFrame(vector_recs)\n",
    "\n",
    "# Convert `id` column to int before merging\n",
    "df_graph['id'] = df_graph['id'].astype(int)\n",
    "df_vector['id'] = df_vector['id'].astype(int)\n",
    "\n",
    "# Normalize Graph Scores\n",
    "if not df_graph.empty and 'graph_score' in df_graph:\n",
    "    df_graph['graph_score_norm'] = (df_graph['graph_score'] - df_graph['graph_score'].min()) / \\\n",
    "                                   (df_graph['graph_score'].max() - df_graph['graph_score'].min())\n",
    "else:\n",
    "    df_graph['graph_score_norm'] = 0  # Default normalization if empty\n",
    "\n",
    "# Normalize Vector Scores (inverse because lower is better)\n",
    "if not df_vector.empty and 'vector_distance' in df_vector:\n",
    "    df_vector['vector_score_norm'] = (df_vector['vector_distance'].max() - df_vector['vector_distance']) / \\\n",
    "                                     (df_vector['vector_distance'].max() - df_vector['vector_distance'].min())\n",
    "else:\n",
    "    df_vector['vector_score_norm'] = 0  # Default normalization if empty\n",
    "\n",
    "# Merge both DataFrames\n",
    "df_merged = pd.merge(df_graph, df_vector, on='id', how='outer')\n",
    "\n",
    "# Fill missing scores and descriptions\n",
    "df_merged['graph_score_norm'].fillna(0, inplace=True)\n",
    "df_merged['vector_score_norm'].fillna(0, inplace=True)\n",
    "df_merged['description_x'].fillna(df_merged['description_y'], inplace=True)\n",
    "df_merged.rename(columns={\"description_x\": \"description\"}, inplace=True)\n",
    "df_merged.drop(columns=[\"description_y\"], inplace=True)\n",
    "\n",
    "# Compute Hybrid Score with weight α = 0.5\n",
    "alpha = 0.5\n",
    "df_merged['hybrid_score'] = alpha * df_merged['graph_score_norm'] + (1 - alpha) * df_merged['vector_score_norm']\n",
    "\n",
    "# Sort by Hybrid Score and select top 10\n",
    "df_sorted = df_merged.sort_values(by='hybrid_score', ascending=False).head(4)\n",
    "\n",
    "# Print results one by one\n",
    "for _, row in df_sorted.iterrows():\n",
    "    print(f\"ID: {row['id']}\")\n",
    "    print(f\"Hybrid Score: {row['hybrid_score']:.4f}\")\n",
    "    print(f\"Description: {row['description']}\\n\" + \"-\" * 80)"
   ]
  },
  {
   "cell_type": "markdown",
   "id": "cd52ed6a-bbe5-437b-afd0-9adf4065c06e",
   "metadata": {},
   "source": [
    "## Drop Graph"
   ]
  },
  {
   "cell_type": "code",
   "execution_count": 7,
   "id": "8712066b-7452-4852-97f7-d06dfa5debe3",
   "metadata": {},
   "outputs": [
    {
     "name": "stdout",
     "output_type": "stream",
     "text": [
      "2025-03-06 15:09:49,562 - tigergraphx.core.managers.schema_manager - INFO - Dropping graph: KGRec...\n",
      "2025-03-06 15:09:53,129 - tigergraphx.core.managers.schema_manager - INFO - Graph dropped successfully.\n"
     ]
    }
   ],
   "source": [
    ">>> G.drop_graph()"
   ]
  },
  {
   "cell_type": "markdown",
   "id": "8e47a026-003c-46b3-b743-5265b64e0d79",
   "metadata": {},
   "source": [
    "---"
   ]
  }
 ],
 "metadata": {
  "kernelspec": {
   "display_name": "Python 3 (ipykernel)",
   "language": "python",
   "name": "python3"
  },
  "language_info": {
   "codemirror_mode": {
    "name": "ipython",
    "version": 3
   },
   "file_extension": ".py",
   "mimetype": "text/x-python",
   "name": "python",
   "nbconvert_exporter": "python",
   "pygments_lexer": "ipython3",
   "version": "3.12.6"
  }
 },
 "nbformat": 4,
 "nbformat_minor": 5
}
